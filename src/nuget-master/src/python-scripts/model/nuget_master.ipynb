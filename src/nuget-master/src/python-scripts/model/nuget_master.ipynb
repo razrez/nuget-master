{
  "cells": [
    {
      "cell_type": "markdown",
      "metadata": {
        "id": "PinHnRlBP05-"
      },
      "source": [
        "# Тема ВКР - плагин Visual Studio Code для рекомендации NuGet зависимостей на основе машинного обучения\n",
        "#### В данной работе рассматривается разработка плагина, предназначенного для рекомендации NuGet зависимостейп о текстовому описанию разрабатываемого проекта.\n",
        "#### Актуальность темы заключается в том, что во время разработки ПО приходится тратить значимую часть времени на поиск и установку необходимых библиотек в проект, что отвлекает от основной задачи и мешает сосредоточиться.\n",
        "#### Целью работы является разработка плагина для Visual Studio Code, предназначенного для рекомендации NuGet зависимостей, чтобы избавить разработчика от рутинных действий по установке и поиску NuGet зависимостей.\n",
        "#### Для достижения цели были поставлены следующие задачи:\n",
        "*\tИзучить основные алгоритмы обработки естественного языка с применением машинного обучения и методы разработки плагинов для Visual Studio Code\n",
        "*\tСоставить методологию по реализации проекта\n",
        "*\tОсуществить сбор данных из открытых источников\n",
        "*\tРеализация модели машинного обучения и её тестирование\n",
        "*\tСоздание плагина для Visual Studio Code с использованием разработанной модели машинного обучения\n"
      ]
    },
    {
      "cell_type": "markdown",
      "metadata": {
        "id": "oY3qLyhatuOU"
      },
      "source": [
        "## Imports"
      ]
    },
    {
      "cell_type": "code",
      "execution_count": null,
      "metadata": {
        "id": "nncEmPTstzm_"
      },
      "outputs": [],
      "source": [
        "import csv\n",
        "import requests\n",
        "from bs4 import BeautifulSoup\n",
        "import json\n",
        "import time"
      ]
    },
    {
      "cell_type": "code",
      "execution_count": null,
      "metadata": {
        "colab": {
          "base_uri": "https://localhost:8080/"
        },
        "id": "__hU8hVet8DF",
        "outputId": "2a90bb8a-8531-440c-f19b-f00521dcbb39"
      },
      "outputs": [],
      "source": [
        "%pip install re\n",
        "%pip install nltk\n",
        "%pip install unicodedata\n",
        "%pip install contractions\n",
        "%pip install inflect\n",
        "%pip install emoji\n",
        "\n",
        "import re\n",
        "import nltk\n",
        "import emoji\n",
        "import unicodedata\n",
        "import contractions\n",
        "import inflect\n",
        "from nltk.corpus import stopwords\n",
        "from nltk.tokenize import word_tokenize\n",
        "\n",
        "nltk.download('stopwords')\n",
        "nltk.download('punkt')"
      ]
    },
    {
      "cell_type": "code",
      "execution_count": null,
      "metadata": {
        "colab": {
          "base_uri": "https://localhost:8080/"
        },
        "id": "2txIAaWXuGvq",
        "outputId": "60de99aa-9077-426d-928c-35e89c1f6403"
      },
      "outputs": [],
      "source": [
        "# Подготовка к частеречной разметке текста путём установки библиотеки Spacy, загрузки perceptron_tagger и модуля Spacy en\n",
        "%pip install spacy\n",
        "nltk.download('averaged_perceptron_tagger')\n",
        "!python -m spacy download en_core_web_sm\n",
        "\n",
        "import spacy"
      ]
    },
    {
      "cell_type": "markdown",
      "metadata": {
        "id": "gVrv9j-9wGjf"
      },
      "source": [
        "### базовые импорты"
      ]
    },
    {
      "cell_type": "code",
      "execution_count": null,
      "metadata": {
        "colab": {
          "base_uri": "https://localhost:8080/"
        },
        "id": "JaN5QcYOt2Ob",
        "outputId": "87b948fc-7391-474e-b9cd-d8afe1394940"
      },
      "outputs": [
        {
          "name": "stderr",
          "output_type": "stream",
          "text": [
            "<ipython-input-4-f5cc533de606>:20: MatplotlibDeprecationWarning: The seaborn styles shipped by Matplotlib are deprecated since 3.6, as they no longer correspond to the styles shipped by seaborn. However, they will remain available as 'seaborn-v0_8-<style>'. Alternatively, directly use the seaborn API instead.\n",
            "  plt.style.use('seaborn-whitegrid')\n"
          ]
        }
      ],
      "source": [
        "import numpy as np\n",
        "import pandas as pd\n",
        "import seaborn as sns\n",
        "import matplotlib.pyplot as plt\n",
        "\n",
        "from sklearn.feature_extraction.text import TfidfVectorizer\n",
        "from sklearn.metrics.pairwise import cosine_similarity\n",
        "\n",
        "import gc\n",
        "%matplotlib inline\n",
        "\n",
        "import sys\n",
        "np.set_printoptions(suppress=True)\n",
        "np.set_printoptions(threshold=sys.maxsize)\n",
        "np.set_printoptions(precision=3)\n",
        "\n",
        "DISPLAY_MAX_ROWS = 100 #20\n",
        "pd.set_option('display.max_rows', DISPLAY_MAX_ROWS)\n",
        "pd.set_option('display.max_column', 100) # None)\n",
        "plt.style.use('seaborn-whitegrid')\n",
        "\n",
        "import warnings\n",
        "warnings.filterwarnings('ignore')\n",
        "\n",
        "import re\n",
        "import csv\n",
        "from sklearn.cluster import KMeans\n",
        "from sklearn.feature_extraction.text import CountVectorizer"
      ]
    },
    {
      "cell_type": "markdown",
      "metadata": {
        "id": "72WnrGYpSFmf"
      },
      "source": [
        "## Сбор данных"
      ]
    },
    {
      "cell_type": "code",
      "execution_count": null,
      "metadata": {
        "id": "BfuvGGEHvRTu"
      },
      "outputs": [],
      "source": [
        "import csv\n",
        "import requests\n",
        "from bs4 import BeautifulSoup\n",
        "import json\n",
        "import time\n",
        "\n",
        "api_url = 'https://api.github.com/search/repositories'\n",
        "headers = {'User-Agent': 'MyPyScrapper/1.0'}\n",
        "repo_url = \"https://api.github.com/repos/{}\"\n",
        "data_file = \"repos_data.csv\""
      ]
    },
    {
      "cell_type": "code",
      "execution_count": null,
      "metadata": {
        "id": "eZLttcC7Hx72"
      },
      "outputs": [],
      "source": [
        "# случай, если описание проекта не влазит полностью\n",
        "def get_full_description(repo_name):\n",
        "    # Send a GET request to the API endpoint\n",
        "    response = requests.get(f'https://api.github.com/repos/{repo_name}')\n",
        "\n",
        "    # Get the response content\n",
        "    content = response.content.decode('utf-8')\n",
        "    description = json.loads(content)['description']\n",
        "    return description\n",
        "\n",
        "def get_repo_data(url, headers, params):\n",
        "    response = requests.get(url, headers=headers, params=params)\n",
        "\n",
        "    # Check the response status code\n",
        "    if response.status_code!= 200:\n",
        "        print(f\"Error {response.status_code}: {response.reason}\")\n",
        "        return []\n",
        "\n",
        "    # Check the response content\n",
        "    content = response.content.decode('utf-8')\n",
        "    try:\n",
        "        data = json.loads(content)\n",
        "    except json.JSONDecodeError as e:\n",
        "        print(f\"JSON decode error: {e}\")\n",
        "        return []\n",
        "\n",
        "    repos_collection = data['items'] # Extract the items array\n",
        "    valid_repos = []\n",
        "    for repo in repos_collection:\n",
        "        repo_name = repo['full_name']\n",
        "        repo_description = repo['description']\n",
        "\n",
        "        if repo_description != \"\" and repo_description is not None:\n",
        "            # описание не влазит полностью\n",
        "            # поэтому дополнительно парсим страницу с репозиторием\n",
        "            if len(repo_description) > 10 and repo_description.endswith('...'):\n",
        "                repo_description = get_full_description(repo_name)\n",
        "                print(f\"делаем дополнительный парсинг к репозиторию {repo_name}\")\n",
        "\n",
        "            valid_repos.append([repo_name, repo_description])\n",
        "\n",
        "    return valid_repos\n",
        "\n",
        "\n",
        "def save_to_csv(data, file):\n",
        "    fieldnames = [\"Repository\", \"Description\"]\n",
        "    with open(file, \"a\", newline=\"\", encoding=\"utf-8\") as csvfile:\n",
        "        writer = csv.DictWriter(csvfile, fieldnames=fieldnames)\n",
        "\n",
        "        if csvfile.tell() == 0:\n",
        "            writer.writeheader()\n",
        "\n",
        "        for row in data:\n",
        "            writer.writerow({\"Repository\": row[0], \"Description\": row[1]})\n"
      ]
    },
    {
      "cell_type": "code",
      "execution_count": null,
      "metadata": {
        "colab": {
          "base_uri": "https://localhost:8080/"
        },
        "id": "RKNHgvxjXGQk",
        "outputId": "81f16402-29cc-4a7e-aa12-0424e61e34c6"
      },
      "outputs": [
        {
          "name": "stdout",
          "output_type": "stream",
          "text": [
            "YEAR 2024\n",
            "Scrapping page 1...\n",
            "data: [['xM4ddy/OFGB', 'GUI Tool To Removes Ads From Various Places Around Windows 11'], ['ExOK/Celeste64', 'A game made by the Celeste developers in a week(ish, closer to 2)'], ['FalconForceTeam/SOAPHound', 'SOAPHound is a custom-developed .NET data collector tool which can be used to enumerate Active Directory environments via the Active Directory Web Services (ADWS) protocol.'], ['unity3d-jp/Project_TCC', 'TCC stands for Tiny Character Controller. TCC is the best way to make your own game. This repository contains all packages and examples for TCC projects.'], ['AIDotNet/fast-wiki', '基于.NET8+React+LobeUI实现的企业级智能客服知识库'], ['vitoplantamura/HackerNewsRemovals', 'List of stories removed from the Hacker News Front Page, updated in real time.'], ['FireCubeStudios/StartStrikesBack', 'Fixed Windows 11 start menu by FireCube'], ['DeEpinGh0st/WindowsBaselineAssistant', 'Windows安全基线核查加固助手'], ['vercidium-patreon/meshing', 'Greedy meshing algorithm for voxel models'], ['INotGreen/SharpThief', '一键提取exe的图标、嵌入图标、资源信息、版本信息、修改时间、数字签名，降低程序熵值'], ['nicsure/QuanshengDock', 'Allows the Quansheng UV-K5 radio to be controlled by a PC.'], ['Cysharp/KcpTransport', 'KcpTransport is a Pure C# implementation of RUDP for high-performance real-time network communication'], ['Cysharp/Utf8StreamReader', 'Utf8 based StreamReader for high performance text processing.'], ['ResetXPDR/MSFS2020_AutoFPS', 'A simple utility for MSFS to automatically adjust key settings to improve performance and smoothness.'], ['CCob/okta-terrify', 'Okta Verify and Okta FastPass Abuse Tool'], ['MzHmO/Parasite-Invoke', \"Hide your P/Invoke signatures through other people's signed assemblies\"], ['thexeondev/WutheringWaves', 'Wuthering Waves ps (0.9.0)'], ['rasta-mouse/CsWhispers', 'Source generator to add D/Invoke and indirect syscall methods to a C# project.'], ['AdamEssenmacher/MemoryToolkit.Maui', 'A developer toolkit for detecting, diagnosing, and mitigating memory leaks in .NET MAUI applications.'], ['mlcsec/FormThief', 'Spoofing desktop login applications with WinForms and WPF'], ['mixandjam/balatro-feel', 'Recreating the basic Game Feel from Balatro'], ['yaobus/SIPAM', 'IP地址分配管理系统'], ['EricHu33/UnityGrassIndirectRenderingExample', 'An example of rendering grasses on terrain using draw DrawMeshInstancedIndirect and compute shader.'], ['TheCod3rYouTube/PS5NorModifier', 'The PS5 Nor Modifier is an easy to use Windows based application to rewrite your PS5 NOR file. This can be useful if your NOR is corrupt, or if you have a disc edition console that needs to be converted to digital in order to bypass the disc drive checks'], ['Cysharp/Claudia', 'Unofficial Anthropic Claude API client for .NET.'], ['Ali10555/FakeRopeSimulation', 'Creates a fake simulated rope, connecting between 2 point.'], ['dmcxblue/SharpGhostTask', 'A C# port from Invoke-GhostTask'], ['ohmcodes/WindowsGSM.Palworld', '🧩WindowsGSM plugin that provides Palworld Dedicated server'], ['Workingdaturah/Payload-Generator', 'An aggressor script that can help automate payload building in Cobalt Strike'], ['MichalStrehovsky/minimaze', '1936 byte game in C#'], ['Nenkai/GBFRDataTools', 'Tool for dealing with Granblue Fantasy: Relink archives.'], ['patriksvensson/wisp', 'A low-level library for interacting with PDF files'], ['ALEXTANGXIAO/GameNetty', 'GameNetty'], ['TripleView/MiHome.Net', \"MiHome's C# native SDK,which can control Mijia smart devices through the network and local methods.\"], ['Fewes/CapsuleOcclusion', 'Unity package implementing clustered capsule/character occlusion'], ['aadhithya14/Open-Teach', 'A Versatile Teleoperation framework for Robotic Manipulation using Meta Quest3'], ['PokersKun/PPPwn-Loader', 'A WPF-based PPPwn front-end'], ['Redth/DotNet.Platform.SlimBindings', 'Slim bindings to native libraries for use with .NET iOS/Android & .NET MAUI apps'], ['WistfulHopes/gbfrelink.utility.manager', 'Mod management utility for Granblue Fantasy Relink using Reloaded II'], ['adammyhre/Unity-Inventory-System', 'Unity Inventory System with UI Toolkit'], ['Mangofang/BypassLoad', 'shellcode免杀加载器，过主流杀软'], ['yaobus/EducationalAdministrationManagementSystem', '教务管理系统（毕业论文实例）'], ['CoreyHayward/PowerToys-Run-ClipboardManager', 'PowerToys Run Plugin enabling searching of the clipboard history and pasting the selected item.'], ['kjpgit/SmallestCSVParser', \"World's Smallest CSV Parser (C#)\"], ['MirzaBeig/Wave-Simulator', 'Interactive wave simulation in Unity.'], ['AnnulusGames/Arch.Unity', 'Arch ECS integration for Unity.'], ['vercidium-patreon/glvertexid', 'Heightmap rendering using gl_VertexID magic'], ['ancientElement/AE_SkillEditor_Plus', 'AE_Skill_Editor的Plus版本'], ['mewlist/Doinject', 'Asynchronous DIContainer for Unity'], ['lengran/OpenPrefirePrac', 'An open-source CounterStrikeSharp powered server-side practicing plugin for CS2. It provides multiple prefire practices on competitive maps and support multiplayer practicing simultaneously.'], ['SmallHedge/AnimatorCoder', 'Trigger Unity animations entirely through script - Complete Edition'], ['bar-ji/Trail3D', 'A 3D C# Trail Render using Immediate Mode rendering.'], ['felipebaltazar/Maui.ServerDrivenUI', 'Server Driven UI library for dotnet MAUI. New features to be deployed on all platforms simultaneously via a backend change, without releasing new versions of the native apps.'], ['dotnet-presentations/eshop-app-workshop', 'This workshop will teach you ASP.NET Core & .NET Aspire by building the product catalog & order placement features of the eShop reference application.'], ['rocketseat-education/nlw-expert-c-sharp', 'An auction system API'], ['WeakKnight/real-time-seamless-object-space-shading', 'Source Code for Eurographics 2024 Short Paper \"Real-time Seamless Object Space Shading\"'], ['fryderykhuang/NullGC', 'High performance unmanaged memory allocator / collection types / LINQ provider for .NET Core'], ['keijiro/UIShaderGraphSample', 'Unity sample: Custom UI shader with Shader Graph'], ['luohongk/CeHuiProgramDesign', 'This project is mainly about the design of surveying and mapping programs. Help undergraduate students in surveying and mapping engineering, geographic information science, and remote sensing science and technology improve their programming skills and professionalism.'], ['project-fika/Fika-Plugin', 'Client-side changes to make multiplayer work'], ['TripleView/HomeKit.Net', \"HomeKit's C# native SDK, which can simulate HomeKit's smart home devices\"], ['AtmoOmen/DailyRoutines', 'Dalamud 插件 Daily Routines - 自动化小工具合集'], ['idlesauce/ps4-eboot-dlc-patcher', 'Patches ps4 fpkgs to load dlcs from the base pkg.'], ['tgraupmann/WinForm_Ollama_Copilot', 'Ollama AI front-end using Windows Forms as a Copilot Application'], ['BetaWRLD/BetaManager', 'Yes, BetaManager. '], ['wushuaihua520/BarrageGrab', '抖音快手bilibili直播弹幕wss直连，非系统代理方式，无需多开浏览器窗口'], ['davidfowl/AspireYarp', 'Yarp resource for Aspire.Hosting'], ['AnnulusGames/EnhancedOnScreenStick', 'Provides an advanced virtual joystick compatible with Unity Input System/uGUI.'], ['mlcsec/SharpGraphView', 'Microsoft Graph API post-exploitation toolkit'], ['FreakyAli/Plugin.Maui.Biometric', 'A biometric plugin for .NET MAUI '], ['ZeroFlyFly/WaifuSpineRuntime', 'Unity Spine Runtime with various version support and Mihoyo / Hoyoverse Website Decoder'], ['tannergooding/RyuJitSharp', 'A port of the dotnet/runtime RyuJIT compiler to C#'], ['Muhammed-Nabih/M-N-Store-E-commerce-', 'E-Commerce using ( ANGULAR & .NET ) , Developed by Clean Architecture principles ( 3 Layers ) ,  Integrated with Stripe payment gateway to securely process online payments. Using Redis to improve performance by caching frequently accessed data (ex : Basket).'], ['bananabr/CLRInjector', 'A PoC .NET-specific process injection tool'], ['ScaffoldLibrary/Schemas', 'Component-like structures for your ScriptableObjects!'], ['n1d3v/naticord', 'Naticord / Native-cord is a native Discord client targetting modern and old operating systems.']]\n",
            "Scrapping page 2...\n",
            "data: [['devblogs-ir/Twitter.Clone', 'Twitter clone developed using ASP.NET Core'], ['una-xiv/umbra', 'Umbra XIV - Adds quality of life improvements to the game and consolidates common UI elements and actions into a single uniform interface.'], ['he55/EmojiViewer', 'fluentui-emoji 表情查看器'], ['AlizerUncaged/waifu-desktop', '🎂 your waifu, right on your desktop!'], ['Muhammed-Nabih/University-Management-System', 'University-Management-System in Asp.net Core using Clean Architecture and CQRS Design Pattern'], ['WhiskeySockets/BaileysCSharp', 'Lightweight full-featured C# WhatsApp Web API'], ['NvC-DmN-CH/AutoVTF', 'AutoVTF is a C# Winforms program for working with VTF files in an intuitive and less tedious way'], ['cpu0x00/EternelSuspention', \"a simple poc showcasing the ability of an admin to suspend EDR's protected processes , making it useless \"], ['nietras/1brc.cs', '1️⃣🐝🏎️ The One Billion Row Challenge -- C# Edition -- nietras'], ['HuiTeab/EFT-DMA-Radar-Only-Code', 'EFT-DMA-Radar-Only-Code'], ['he55/SonomaWallpaper', 'Windows 11 4k 240 帧动态屏保壁纸'], ['BinaryAlley/DatasetTag', 'Helper utility for Machine Learning dataset images caption preparation'], ['BruceQiu1996/EasyTcp4Net', 'A high-performance TCP communication package developed by .NET that supports multiple unpacket strategies'], ['Hercules-NET/ZeusFiscal', 'A Principal Biblioteca em C# para Emissão e Impressão de NFe, NFCe, MDF-e e CT-e'], ['Semperis/SilverSamlForger', 'Silver SAML forgery tool'], ['Kengxxiao/CelestiteLauncher', 'Cross platform third-party DMM Game Player in C#'], ['XuToWei/StateController', '一个简单可编辑的状态控制器'], ['mlcsec/SigFinder', ' Identify binaries with Authenticode digital signatures signed to an internal CA/domain'], ['elbruno/semantickernel-localLLMs', 'Sample on how to run a LLM using LM Studio and interact with the model using Semantic Kernel.'], ['CharlieDigital/dn8-modular-monolith', 'A practical example of how to build modular monoliths (\"momo\") with .NET 8'], ['InCerryGit/SatelliteRpc', '基于Kestrel编写一个使用自定义协议的Rpc框架的演示，不可用于生产'], ['Hunter-Raff/e-ReaderCardCreator', \"A frontend application designed to read, compress, and decompress Nintendo's e-Reader dot code data\"], ['Baseult/NetLimiterCrack', 'A simple patch program to get NetLimiter Premium for free'], ['kwsch/ItemPrinterDeGacha', \"Calculation tool for Scarlet/Violet's Item Printer\"], ['Yeeb1/SharpLansweeperDecrypt', 'Automatically extract and decrypt all configured scanning credentials of a Lansweeper instance.'], ['PCJones/UmlautAdaptarr', 'A tool to work around Sonarr, Radarr, Lidarr and Readarrs problems with foreign languages'], ['shalzuth/PalWorldAntiCheat', 'palworld anticheat for dedicated servers'], ['davidfowl/AspirePulumi', 'A demo showing pulumi and aspire'], ['mrarashiyan/Fake-Interior-Shader', 'This is a shader for creating fake interior for buildings and outdoor environments in Unity game engine'], ['tubearchivist/tubearchivist-jf-plugin', 'Metadata for your TubeArchivist library on Jellyfin.'], ['chiugame/udon-task', 'This package enables the execution of Udon from a separate thread.'], ['stanuwu/PixelGun3DPCCheat', 'Cheat for Pixel Gun 3D PC'], ['ohmcodes/WindowsGSM.Enshrouded', '🧩WindowsGSM plugin that provides Enshrouded Dedicated server'], ['hrpzcf/ImageCvt', '监视目录并自动把目录里新增或被重命名为目标格式的图像转换为指定格式'], ['noio/games.noio.input-hints', 'Ties together the Input and Localization system to give you live Input Hints!'], ['keijiro/UITK-Sample', 'Basic samples for Unity UI Toolkit'], ['IronWarrior/UnityLogViewer', 'Displays Player.log files in a similar view to the standard Unity Editor Console. Can be used either as a standalone app or editor window.'], ['shapediver/GrasshopperPluginTemplate', 'Best-practice template for a Grasshopper and Rhino plugin using a shared library and tests'], ['nomnomab/lc-project-patcher', 'A tool to generate a usable Unity project for Lethal Company modding.'], ['IAmBatby/LethalLevelLoader', 'A Lethal Company API to allow for custom Level & Dungeon integration.'], ['VietPam/AuditTrailTemplate', 'Audit trails template using ASP.NET Core 8.0 and Entity Framework Core with PostgreSQL.'], ['IsotopicIO/isotopic-sdk-unity', 'The official Isotopic SDK for Unity'], ['DevSplash/ASFAutoClaimStickers', 'ArchiSteamFarm plugin for claiming stickers automatically.'], ['wsxhm/CPF', 'CPF(Cross platform UI framework) C# .Net，Develop Desktop, Embedded, Mobile'], ['seep/JoltPhysicsUnity', 'Jolt Physics bindings for Unity'], ['elgatopanzon/gatogpt', 'Local LLM inference & management server with built-in OpenAI API'], ['trojannemo/Nautilus', 'Tool suite to create, edit and work with Rock Band files'], ['HuangJuanLR/Juan_ShaderandGraphGUI', 'GUI for both ShaderLab and ShaderGraph'], ['matahino/drawing', 'drawing \"\" C# \"\" Tool \"\" Windowsforms'], ['BlueMystical/Dark-Mode-Forms', 'Apply Dark Mode to all Controls in a Form [WinForms]'], ['kteong1012/HybridCLR_AssemblyResolver', '用于检查热更程序集是否引用了被裁剪的AOT类型'], ['convalise/unity-material-symbols', \"This project simplifies the usage of Google's Material Symbols (Icons) on Unity.\"], ['vallettasoftware/boilerplate-dotnet', 'A multifunctional enterprise HTTP API project template based on modern approaches and the latest version of .NET 8.'], ['m-jovanovic/minimal-endpoints', 'Automatically register your Minimal API endpoints in ASP.NET Core.'], ['mgravell/FASTERCache', 'IDistributedCache implementation on FASTER'], ['SaberZG/VertexProfilerTool', '一个Unity中可用的顶点密度debug工具，部分调试类型可导出密度信息'], ['victorverdoodt/Disaster-Response-Coordinator', \"O 'Disaster Response Coordinator' é um sistema interativo baseado em inteligência artificial para coordenação e suporte em situações de desastre. Utiliza a API do Gemini para facilitar a comunicação entre vítimas e serviços de emergência, integrando-se ao Sistema Integrado de Informações sobre Desastres v3. \"], ['KevinDockx/AspNetCoreWebApiFundamentals', 'Fully functioning sample code for my ASP.NET Core Web API Fundamentals course, currently targeting .NET 8.'], ['kevingosse/WalkHeap', 'Sample code to show how to walk the managed heap in C#'], ['Qolors/Clam-Shell', 'Discord File & URL Monitoring Anti-Virus Engine'], ['Rafaeruo/pkl-csharp', 'PKL lang bindings for C#, still WIP'], ['IceyFL/The-Finals-AI-Cheat', 'AI cheat based of off Aimmy'], ['bcvgh/Kingdee_erp_MemShell', '金蝶星空云反序列化漏洞内存马'], ['AnnulusGames/NavStack', 'Asynchronous screen transition/navigation for Unity.'], ['PixelWizards/simple-character-controller', 'A simple Unity character controller'], ['StinkySteak/unity-webgl-server', 'Unity Plugin to Host WebGL. Run build locally without \"Build and Run\" with zero dependencies'], ['dujinglong2024/BaZiPaiPanGongJu', '天干地支 排盘 八字 十神 神煞 五行 命理 算命'], ['davidfowl/AspireSwaggerUI', 'An aspire resource for showing swagger ui'], ['DXXNS/Content-Warning-Cheat', 'This is a small cheat written for Content Warning'], ['MaxWasUnavailable/Virality', 'A bigger lobby mod for Content Warning.'], ['ericjohnson97/iq_image_generator', 'Aerospace style image generator designed for mavlink based vehicles'], ['WOA-Project/AndroidDebugBridge', 'The Android Debug Bridge Protocol, implemented in C# / .NET'], ['matahino/PDFToul', 'PDF C#'], ['xafero/Coaster', 'A C# Parser library that allows easy parsing and formatting of C# source files'], ['kzu/StreamAI', 'A sample of how to implement streaming responses from OpenAI using SignalR'], ['Gericom/GCDTool', 'Tool to create a GCD rom for DSi ntrboot.'], ['Temp-ID/VR-Gesture-Recognition', 'A drop-in, device-agnostic library for performing VR pose recognition'], ['PacktPublishing/ASP.NET-Core-8-and-Angular', 'ASP.NET Core 8 and Angular, published by Packt'], ['pomaray/5to_23-24_sistema-gestor-calificacion', 'Proyecto de Software de Código Abierto por Estudiantes de 5to de Informática (Período Escolar 2023-2034)'], ['stanuwu/PG3DInjector', 'Injector for Pixel Gun Cheat Internal']]\n",
            "Scrapping page 3...\n",
            "data: [['Sielnix/EFCore.Snowflake', 'Entity Framework Core provider for Snowflake'], ['winter2048/PalServerTools', '幻兽帕鲁服务器Web端工具 （自动重启、存档备份、内存优化、在线玩家管理、版本自动更新、Rcon指令、游戏参数配置、支持多开）Palworld Server Tools'], ['hez2010/AotAssistant', 'An assistant that can auto-generate necessary runtime directives for NativeAOT'], ['adammyhre/Unity-GOAP', 'Unity Goal Oriented Action Planning'], ['x753/Content-Warning-More-Players', 'A mod that increases the max player count in Content Warning to 128.'], ['alexhiggins732/BLlamaSharp.ChatGpt.Blazor', 'BLlamaSharp.ChatGpt.Blazor is a Blazor-based LLamaSharp Chat GPT application'], ['Delsin-Yu/GDTask.Nuget', 'Nuget package for adding async/await functionality in Godot'], ['jacking75/edu_NewbieGameServerProgrammerLearningMaterials', '뉴비 게임 서버 프로그래머를 위한 학습 자료'], ['Master-s/PS4-9.00-11.00-PoC-bin-loader', 'PS4-9.00-11.00-PoC-bin-loader'], ['renatogroffe/OWASPApiTop10_DevOpsExperience-Mar2024', 'Materiais de apresentação sobre OWASP API Security Top 10 realizada durante a edição de Março-2024 do DevOps Experience.'], ['practical-otel/dotnet-xunit-otel', 'An xUnit test framework that wraps tests in a trace to provide better visualisation of the test flows'], ['wy19910222/Unity-Tools', '本仓库用于存放一些自创的小工具、对Unity的实用扩展、对第三方插件的扩展等。'], ['Victoare/SR-WLED-audio-server-win', 'SoundReactive WLED audio streamer for windows'], ['doodlechaos/ChaosLeagueLiveOS', 'Open source interactive livestream for twitch! '], ['RossGeerlings/PlasmaPup', 'PlasmaPup is designed to help central and departmental IT personnel understand their exposures in Active Directory by showing which accounts have permissions to make changes within their OU(s) or modify group policy applying to thier OU(s).'], ['mhshahmoradi/AdsML', 'AdsML is an ASP.NET Core Web API project integrated with ML.NET to predict whether a given message is an advertisement or not.'], ['keenanwoodall/Sketch', 'Processing-like API for Unity. Built on top of the Shapes vector graphics library'], ['renatogroffe/DotNet8-Dapper', 'Exemplos de utilização de Dapper com o .NET 8.'], ['JevLOMCN/mir4-launchers', 'Legend of Mir 4 - Official Launchers'], ['schwarper/cs2-store', 'A store plugin'], ['stamo/HouseRentingSystem2024', 'House Renting System workshop. SoftUni 2024'], ['wakwak-koba/AkizukiHistory', '秋月電子の購入履歴詳細を全件ダウンロードします'], ['NimblePros/eShopOnWeb', 'Sample ASP.NET Core 8.0 reference application, powered by Microsoft, demonstrating a layered application architecture with monolithic deployment model. Download the eBook PDF from docs folder.'], ['B3none/cs2-clutch-announce', 'CS2 clutch announcement plugin'], ['C0mputery/SelfSufficient', 'A mod for Content Warning that allows you to use your own Photon Server instance.'], ['Rythorndoran/NCMDump', '网易云音乐ncm文件格式转换'], ['AlianBlank/GameFrameX.Unity', 'GameFrameX的Unity版本'], ['MSEndpointMgr/PSInvoker', 'Utility application to silently running PowerShell scripts without flashing windows.'], ['reqnroll/Reqnroll.Rider', 'Rider plugin for Reqnroll - open-source .NET BDD framework'], ['lilxyzw/lilycalInventory', 'Modify avatar at build time.'], ['wy19910222/Unity-ControlSystem', 'Unity环境下的一套控制与触发系统，无需另写代码即可控制状态和进度、触发各种变化、监听各种事件，算是一款低代码化插件。'], ['keijiro/M8Unity', 'M8 client implementation with Unity'], ['ZMteacher/ZMFrameWork', 'UIFramem,AssetsFrame,DMVC'], ['Q-rtix/Results', 'This Result library is a C# tool that simplifies managing operation results by encapsulating return values and status info in a single object, aiding in handling complex systems.'], ['OfficeDev/microsoft-teams-apps-callrecord-insights', 'Call Record Insights Application Template'], ['Guillemsc/GDebugPanelGodot', 'Runtime debug panel for Godot 4.x with C#'], ['thebeardphantom/Runtime-TypeCache', \"Extending Unity's UnityEditor.TypeCache support to player builds.\"], ['UnioGame/LeoECS.Lite.Features', 'Collection of Base Game ECS Features'], ['zerratar/fallout4-downgrader', 'Downgrade Fallout4 to before Next-Gen update to allow running old mods'], ['vulnableone/BypassX', 'The Swiss army knife of evasion tool that bypasses AMSI, Applocker, and CLM mode simultaneously.'], ['mayuki/Yafp', 'A toolkit for implementing forward proxy based on ASP.NET Core and YARP.'], ['WOA-Project/FastBoot', 'The FastBoot USB protocol, implemented in C# / .NET'], ['kedzior-io/astro-architecture', 'Astro Architecture Solution Template .NET8'], ['Iksix/Iks_Admin', 'Admin system for CS2 on CS#'], ['zwolof/cs2-executes', 'CS2 implementation of executes. Based on the version for CS:GO by Splewis.'], ['AlexRak2/Coop-Party-Template-Unity-Mirror-Steam', 'Advanced Coop party system template using mirror and steamworks.'], ['ttayfunylmz/Unity_DesignPatterns', 'Design Patterns for Unity.'], ['nukadelic/GraphicsDraw', 'Unity Graphics Draw API wrapper for both play and edit mode'], ['ancientElement/BEPUPhysicsIntForUnity', 'Eazyer Use  BEPUPhysics in UnityEngine '], ['adammikulis/MindGame', 'Mind Game is a C# plugin for Godot 4.3 to run LLMs locally in games'], ['AwokeinanEnigma/JetbrainsBlocker', \"Blocks Jetbrain's account authorization servers. Written in C# with hate.\"], ['ipms-io/nlightning', 'This project aims to provide a robust and efficient implementation of the Lightning Network protocol in C#. We adhere to the Basis of Lightning Technology (BOLT) specifications to ensure compatibility with other Lightning Network implementations.'], ['matthewbolanos/semantic-kernel-home-automation', 'A home automation sample that uses Semantic Kernel and Hue lights'], ['keijiro/BistroUnity', 'Amazon Lumberyard Bistro scene setup for Unity'], ['LiZhengXiao99/Geomatics-Program', '2024年测绘程序设计比赛准备的资料，包括通知文件、赛题说明、日程安排、参考资料、参考例程、测试数据、我写的练习程序、写程序步骤总结、C#-WinForm语法、常见问题'], ['dotnet9/CodeWF', '码界工坊,codewf.com, dotnet9.com, dotnetools.com, dotnet.chat'], ['hogeschool/OODP', 'Public repo for OODP of Informatica'], ['Mimi8298/Supercell.ArxanUnprotector', \"A tool to remove and re-protect Arxan protection from Supercell's games\"], ['david-acm/modulith', 'Modulith is a dotnet new template for Modular Monoliths. It streamlines the creation of new .Net solutions and the addition of modules to existing ones.'], ['adammyhre/Unity-Stats-and-Modifiers', 'Broker Chain Implementation of Stats and Modifiers'], ['samxxxxx/dyapi', '多元API，抖音、快手、B站、头条、西瓜等短视频平台的无水印视频下载解析接口服务，支持小程序一键解析'], ['EP-Toushirou/ET8-Luban', '基于ET8.1集成了功能更完善的Luban(新版)配置工具'], ['WorldWideWest/dotnet-template', 'Dotnet template implemented with the CLEAN Architecture Pattern, including development & debugging tools, docker support, CI/CD tools and tests'], ['Joy-less/TCPMaid', 'An easy, powerful and lightweight TCP client/server in C#.'], ['bdawg1989/NotRaidBot', 'A Pokemon Scarlet/Violet Raid Bot Program'], ['FC122/DevOfSwSuppWithOOP', 'Programing Design Patterns, SOLID, STUPID, Code Smells and Antipatterns, Unit testing'], ['rickytheoldtree/com.rickit.ui', 'Unity 的一个异步UI管理插件'], ['Industrialcarbon-basedorganisms/TIA-Portal-Openness-Project', '使用TIA Portal Openness生成Modbus梯形图'], ['azret/llm.cs', 'LLM training in simple, raw C#/CUDA'], ['fullstack-Maestro/Job-Harbor', 'JobHarbor is a cutting-edge job portal designed to revolutionize the way professionals connect with employment opportunities. With its intuitive interface and powerful features, JobHarbor empowers both job seekers and employers to navigate the hiring process with ease and efficiency.'], ['julielerman/EFCore8Fundamentals', 'Code for Pluralsight EF Core 8 Fundamentals published Jan 2024'], ['davidfowl/AspireWithRedis', 'A simple hello world aspire redis project'], ['roman015/InfiniteCraftAutomation', 'The roundabout way to play Infinite Craft']]\n",
            "Scrapping page 4...\n",
            "data: [['m-jovanovic/yarp-load-balancing', 'An example project demonstrating how to horizontally scale an application using YARP, and run performance tests with k6.'], ['fchavonet/unity-2d-holberton_survivors', 'Welcome to the final stage of our first year at Holberton School! Discover our 2D game inspired by \"Vampire Survivor\", which will be presented to a panel of judges to validate our programming skills.'], ['Frognar/Expense-Explorer', ' Expense Explorer simplifies receipt storage and offers detailed spending reports, making it an essential tool for tracking and managing your finances effortlessly.'], ['klucyszy/freethings', 'The ideas of this project is to create a platform with same concept as \"Uwaga Śmieciarka Jedzie\" FB group, where people can share things they don\\'t need anymore, but are still in good condition. The main goal is to reduce waste and give things a second life.'], ['kikipoulet/LlamaChat', 'Basic Llama Desktop Client made in Avalonia'], ['GDACollab/Malisense', \"GDACollab's 2024 Mock Studio game\"], ['jonowilliams26/rfidify', 'A RFID reader that plays things on Spotify'], ['edgegamers/Jailbreak', 'The classic Jail gamemode, ported to Counter-Strike 2.'], ['coffeeSurplus/UniPlanner', 'just an average homework planner'], ['DanKE123abc/HiPcMijia', '把电脑接入小爱语音控制'], ['sipper69/Control3', 'Control3 Laptop KVM (CH9329)'], ['LesFerch/SwitchExplorer', 'Switch Explorer between the Windows 11 version and the Windows 10 version'], ['Asrorbek-Abrorov/OnlineVotingSystem', 'This Online voting system in c# .Net Console Application'], ['pema99/SHTools', 'Tools for working with Spherical Harmonics in Unity'], ['rocketseat-education/nlw-unite-c-sharp', 'Aplicação back-end em C# desenvolvida durante o NLW Unite da Rocketseat'], ['TheAirBlow/HyperSploit', 'Bypassed HyperOS restrictions on bootloader unlocking'], ['adospace/reactor-data', 'ReactorData is a fast, easy to use, low cerimony data container for your next .NET app'], ['aiqinxuancai/Aria2Fast', 'Aria2的Windows轻量下载客户端，支持支持BT、HTTP下载及动漫订阅。'], ['renatogroffe/ElasticAPM_DevOpsExperience-Fev2024', 'Materiais de apresentação sobre monitoramento de aplicações com Elastic APM realizada durante a edição de Fevereiro-2024 do DevOps Experience.'], ['IBM5100o/HDT_BGrank', \"A Hearthstone battlegrounds plugin help you to search opponents' MMR.\"], ['KaganAyten/RestaurantGame3DUnity', 'Simple Hamburger making game like Overcooked in Unity3D'], ['ABKAM2023/CS2-LevelsRanks-Core', '[C#] [Levels Ranks] Core'], ['delta-incubator/delta-dotnet', 'DeltaLake bindings for dotnet based on delta-rs'], ['ameyer505/D365FOAdminToolkit', 'A D365FO administrative toolkit created by and for the community'], ['Ceasar-derder/UnityDots-Simulation', 'ECS StateMachine'], ['pantyneko/MeowFramework', '这是一套由QF架构进行魔改的高性能架构,提供了高度开放的扩展权限,适合喜欢自定义,追求极限轻量的开发者 架构旨在支持高度模块化和灵活的系统设计,通过实现单例模式、命令/查询处理模式、事件处理等'], ['iiDk-the-actual/iis.Stupid.Menu', 'A mod menu for Gorilla Tag with over 450+ mods.'], ['BlueCyro/Outflow', 'Mitigate hitching when new users join a session in Resonite'], ['H-Ghamarzadeh/HGO.ASPNetCore.FileManager', 'Free & Open Source File Manager for ASP.Net Core 6+ with MIT License'], ['banudik/Tobeto3A-NArchitecture.BootcampProject', 'Tobeto NArchitecture Bootcamp Project'], ['GlodenSlime/WindowsDiskClear', '清理Windows空闲磁盘空间，避免已删除的数据被恢复，以保护个人的隐私数据'], ['OtabekgithubJava/Email', 'Hali kamchiligi bor + registered pointda hato bor - \"isresgitered = true\" swagger da chiqmasligi kere'], ['KevinDockx/SecuringAspNetCoreWithOAuth2andOIDC', 'Starter files & fully functioning finished sample code for my Securing ASP.NET Core with OAuth2 and OpenID Connect course, currently targeting .NET 8.'], ['altamkp/GodotEx', 'Set of extension libraries for Godot in C#.'], ['Bian-Sh/MonoScript-Replace-Handler', '一个简单的组件一键替换工具，a simple tool for replacing unity component'], ['nidaynere/damage-numbers-DOTS', 'Show thousands of damage numbers in DOTS.'], ['renatogroffe/MFA_DevOpsExperience-Jan2024', 'Materiais de apresentação sobre MFA (Multi-Factor Authentication) e Azure AD B2C realizada durante a edição de Janeiro-2024 do DevOps Experience.'], ['Javohir-Khursanboyev/AirportSystem', ' AirportSystem is a software application designed to manage the operations and activities of an airport. It provides functionalities to handle flight scheduling, passenger information, and airport resources.'], ['MohammadRezaGholamizadeh/NetCalendar', 'This Is An Built In Calendar With Best Ability To Convert All Date To Each Other With High Accuracy : This Package Contains Gregorian Calendar , Hijri Calendar , Persian Calendar , Solar Calendar'], ['0xced/ChiseledSqlClient', 'Trimming down unnecessary bits out of Microsoft.Data.SqlClient'], ['FrenzyByte/StandardDisplacementShader', 'Extension of the Unity Standard Shader with extra displacement and tessellation controls.'], ['MSI-AI-Group/AI-Artist', 'Generate images directly on your local device with AI Artist. You can create rich images with prompts and generate words within images.'], ['TheD0ubleC/MusicalMoments', '基于.NET的实时音频播放与及时切换使用麦克风解决方案'], ['FmgLib/FmgLib.MauiMarkup', 'About FmgLib.MauiMarkup with C# Markup classes and fluent helper methods'], ['MarkoDM/GodotInGameBuildingSystem', 'This project is a comprehensive starter kit designed for creating building simulation games(or just games with building mechanic) in Godot 4.'], ['carolemad965/ASP.NET-Core-Web-API-with-JWT-Authentication', 'This project demonstrates building a secure ASP.NET Core Web API with JWT (JSON Web Token) authentication'], ['ElderJames/SigmaAI', 'Enterprise intelligence platform based on LLM and GenAI'], ['Hyrdaboo/TrailRenderer', \"A trail/ribbon renderer for Godot similar to Unity's TrailRenderer\"], ['KonataDev/KonataNT', 'Konata.Core/Lagrange.Core Next Generation NTQQ Protocol implementation with NativeAOT in mind'], ['audiomaster99/CS2BombsiteAnnouncer', 'Simple Bombsite Announcer for CS2 Servers.'], ['zhzl/UIBinding', 'Unity ugui binding'], ['valloon427428/WindowsDefenderHelper', 'Add/Remove/Read Exclusions on Windows Defender using C#.'], ['m-jovanovic/yarp-authentication', 'An example project demonstrating how to implement an API Gateway with authentication using YARP.'], ['KingCalzone/PPPwn-Windows-Automated', \"PPPwn v1.7 (C++) with automated ethernet disabling and re-enabling for Windows based PC's! Lets be lazy :)\"], ['AnnulusGames/ReactiveInputSystem', 'Reactive Extensions for Unity Input System'], ['JamesNK/aspnetcore-maui', 'A sample of hosting ASP.NET Core in a MAUI app'], ['microsoft/Rexl', 'Research EXpression Language'], ['renatogroffe/DotNet8-2024-03', 'Exemplos de novas funcionalidades do .NET 8, ASP.NET Core e C#12.'], ['Yusuke57/TextAssetInspector', 'Unity editor extension that improves the behavior of TextAsset on Inspector.'], ['Aw3K/ServersList', 'cssharp plugin for listing cs2 own servers'], ['Centauri2442/VRCNetworkDebugger', 'Simple Drag&Drop system for network debugging within VRChat!'], ['renatogroffe/TDD-BDD-2024-04', 'Exemplos de implementação de testes em .NET 8 e .NET 6 utilizando os projetos xUnit e SpecFlow.'], ['WhosLogan/Cloak', 'An easy to learn from .NET obfuscator'], ['Yeeb1/SharpRDPlusSnatcher', 'Exploits a flaw in Remote Desktop Plus by monitoring and decrypting temporary .rdp files in %localappdata%/Temp, revealing credentials used in remote desktop sessions.'], ['MrKasper/TarkovHelp-GUI', 'An app for Escape From Tarkov that tracks item prices, view trade barters, quests, maps and more!'], ['SmallHedge/AnimatorBrain', 'Trigger Unity animations entirely through script'], ['SeiOkami/links-one-s', 'Реестр каналов и чатов по теме 1С в Telegram'], ['Havunen/DotSwashbuckle2', \"Swagger tools for documenting API's built on ASP.NET Core\"], ['Q-rtix/RepositoryPattern', 'This libraries provides a convenient abstraction and implementations of the repository pattern in your .NET applications. By using this library, you can decouple your data access logic from your business logic, resulting in a more maintainable and testable codebase.'], ['showlab/BYOC', '[IEEE-VR 2024] Bring Your Own Character: A Holistic Solution for Automatic Facial Animation Generation of Customized Characters'], ['Facepunch/sbox-arena', 'Simple multiplayer deathmatch game using the Scene System.'], ['H2ojunjun/Shader_Replacement', '批量替换shader工具'], ['sajmonekk191/MagicOrbwalker', 'Fast Simple League of legends External Orbwalker (Pixel Based) (Patch 14.5)']]\n",
            "Scrapping page 5...\n",
            "data: [['miniksa/trie', 'Playing around to make a high-performance prefix tree implementation in C#'], ['laphedhendad/UI-Framework', 'UI Framework for Unity based on reactivity and MVP pattern.'], ['taxfyle/FxKit', 'Functional programming utilities and Roslyn components for writing expressive C#'], ['domjancik/VL.NodeGen', 'Use AI to effortlessly generate nodes for your vvvv gamma projects'], ['Crazyloon/Enshrouded-Server-Manager', 'An easy-to-use server manager for Enshrouded'], ['OccultGameDev/Occult-Unreal-Plugin-Generator', 'A Tool for quickly generating the core required files needed to compile a Plugin.'], ['Magnno/Unity_2D_VFX', 'A collection of visual effects for 2D Unity projects.'], ['lilxyzw/lilNDMFMeshSimplifier', 'Simplify meshes at build time.'], ['CameronAavik/1brc', 'My C# solution to the One Billion Row Challenge'], ['dushegubka/FriendlyEnum', 'FriendlyEnum — генератор исходного кода для удобной конвертации Enum в String. Simple Source generator for convenient enum to string conversion'], ['tanitta/TimelineBindingResolver', 'TimelineBindingResolver(TBR) component is designed for use in VRChat production and stores references for bindings attached to the PlayableDirector Component as relative path strings.'], ['wojciechp6/YOLOv8Unity', 'YOLOv8 for Unity - object detection and instance segmentation using Barracuda'], ['crskycode/EntisGLS_Tools', 'EntisGLS engine tools.'], ['Oylneechan/ZombieSharp', 'Infection/survival style gameplay for CS2 in C#'], ['Hamunii/LC-ExampleEnemy', 'Example Enemy project for Lethal Company. Part of the Custom Enemy guide for Lethal Company Modding Wiki.'], ['senai-desenvolvimento/2023-3S-3DS-Alunos', 'Repositório para armazenar projetos e conteúdo de aulas do 3º Termo de Desenvolvimento de Sistemas (Curso Técnico)'], ['chuxiaaaa/AntiCheat', 'A Lethal Company AntiCheat Mod'], ['StreamService/FFMpegCore', 'A .NET Standard FFMpeg/FFProbe wrapper for easily integrating media analysis and conversion into your .NET applications. Supports both synchronous and asynchronous calls'], ['sledgehamm3r/ESX-QBCore-Converter', 'A tool to convert scripts from QBCore to ESX or ESX to QBCore'], ['normj/aspire-aws-feedback', 'Repo for demonstrating ideas combing AWS and .NET Aspire'], ['Abhayprince/IcecreamMAUI', 'An Icecream Store Mobile App built with .Net MAUI (XAML) + Asp.Net Core Web Api - .Net 8'], ['HunterShenSmzh/Xunity-TGW', 'XUnity.AutoTranslator+Text Generation webui translate'], ['synacktiv/EIPP', 'Entra ID Password Protection Banned Password Lists'], ['matahino/morphological-analysis', 'Japanese language \"\"  morphological analysis'], ['Brendan-Kirtlan/Terraria-display', 'The python and mod code to use Terraria as a display'], ['TianYu-00/PalworldServerManager', 'PalworldServerManager - Simple server creating and managing tool.'], ['le-nn/yolu', 'Yolu is utilities and C# extensions aimed to improve development productivity and extend the .NET API with unique features.'], ['AwokeinanEnigma/JetbrainsInspector', \"Application for automatically blocking Jetbrain's account authorization servers for every Jetbrains application. \"], ['schwarper/cs2-customrounds', 'A custom round plugin'], ['coop-tim/maui-sample', 'MAUI .NET 8 Demo Firebase Messaging'], ['eligamii/ArcFix', 'Very simple and lightweight program to fix Arc for Windows not being able to launch on certain devices'], ['mehmetozkaya/EShopMicroservices-Udemy-Sections', 'This repository prepared for Udemy course sections that you can find all codes section-by-section on my Udemy Course'], ['felipeggrod/gasify', 'A Gameplay Ability System for Unity'], ['xvt-void/EnableAllTokenPrivs', 'Enable or Disable TokenPrivilege(s)'], ['Stimayk/OfficialDsStatus-CS2', 'Changes the status of the community server to Official DS'], ['Pieeer1/SteamMultiplayerPeer', 'Initial Steam Multiplayer Peer'], ['Uotan-Dev/UotanToolboxNT', 'A Modern Toolbox for Android Developers'], ['XidMods05/brawl-stars-v36-private-server', 'C# Brawl Stars server emulator for version 36.218 with online battles'], ['crystallpunk-14/crystall-punk-14', 'Кооперативная ролевая игра об экспедиции в земли Кхорвайра. Основана на игре Space Station 14.'], ['FluffyFishGames/AdvancedCompany', 'Repository for my AdvancedCompany mod.'], ['ardalis/MongoDbDotNetHelloWorld', 'Demonstrating how to get started with MongoDB as quickly as possible in dotnet'], ['ardalis/yarp-passthrough', 'The simplest YARP ASP.NET Core app that just passes everything through to another domain.'], ['red-gezi/WalkOnWall', \"一个模仿崩坏星穹铁道匹诺康尼地图中人物在墙上行走效果的技术预研demo  A technical research demo that mimics the character's walking on the wall effect in the Penacory map of the game Star Rail\"], ['ArashAslani/CleanArchitectureSample', 'This is Clean Architecture - DDD - CQRS - API design - User Management implementation Sample'], ['Aaronontheweb/AkkaStreamsCookbook', 'Some Akka.NET streams examples for solving common backpressure / engineering problems.'], ['SunsetQuest/BigFloat', 'A floating point library for large numbers.'], ['somedeveloper00/GameBuilder', 'Game builder (and automation) for Unity'], ['HHChandar20/GoTaxi', 'Transport Project'], ['xnom0/GetWatcher', 'Obtenir un observateur'], ['schwarper/cs2-tags', 'An advanced tag plugin'], ['Empyreal96/x86Emulator-UWP', '(No longer maintained) An in-development Virtual Machine client for UWP '], ['Viking-wei/ProceduralGrass', '啦啦啦'], ['murayuki/Palworld-SettingTools', 'Palworld Server Setting Editor (伺服器設定編輯器)'], ['Aw3K/AutoTeamBalance', 'cssharp plugin for forced on round start team balance'], ['Andersen27/Photino.Blazor.CustomWindow', 'Customizable window view and behaviour implementation for Photino.Blazor applications with Chromeless mode'], ['StephenCleary/Hosting', '.NET Generic Host for UI applications'], ['giosuel/imperium', 'Imperium is a powerful and highly performant all-in-one debugging tool to test and explore game mechanics and functionality in Lethal Company.'], ['Romzetron/Romzetron.Avalonia', 'Romzetron Avalonia Theme'], ['ekondur/RedisUI', 'Redis Integrated UI'], ['kmcclainmt/Scorarr', 'Scorarr is a fork of Sonarr but for sports'], ['Facepunch/sbox-walker', 'A map exploration game for s&box'], ['seghier/Grasshopper_ComfyUI', 'Convert and use ComfyUI workflow within Grasshopper'], ['Lixkote/FluentMsgBox', 'W11 Style Drop-In wpf messagebox replacement. '], ['NickToony/gd-retroterrain', 'Terrain just like RCT'], ['vicperdana/AspireShopWithSemanticKernel', '🤖 🔋 Power up your Shopping Cart Application with AI powered by .NET Aspire and Semantic Kernel'], ['Wakamu/VRCEmoji', 'Converter tool from Gif to VRC compatible spritesheets for animated emojis'], ['Master-s/PoC-PS4-PS5', 'PoC PS4/PS5'], ['renatogroffe/DotNet8-2024-04', ' Exemplos de novas funcionalidades do .NET 8, ASP.NET Core e C#12.'], ['Q-rtix/EFCore', 'This .NET repo offers EF Core converters for DateOnly and TimeOnly types, ensuring accurate data storage. It also includes a Repository pattern implementation for streamlined data access. Simplify EF Core projects with enhanced precision and modular architecture'], ['patriksvensson/dotnet-make', 'A build tool for your build tools.'], ['neon-age/Unify', 'Fix Unity.']]\n",
            "\n"
          ]
        }
      ],
      "source": [
        "year = 2024\n",
        "print(f\"YEAR {year}\")\n",
        "for page in range(1, 5+1):\n",
        "    params = {'q': f'created:{year}-01-01..{year}-12-31 language:C# is:public topics:<1', 'per_page': 200, 'page': page}\n",
        "    print(f\"Scrapping page {page}...\")\n",
        "    repos_data = get_repo_data(url=api_url, headers=headers, params=params)\n",
        "    print(f\"data: {repos_data}\")\n",
        "\n",
        "    if len(repos_data) > 0:\n",
        "        save_to_csv(repos_data, data_file) # Сохранение элементов в csv формат\n",
        "\n",
        "print()"
      ]
    },
    {
      "cell_type": "markdown",
      "metadata": {
        "id": "yYk-DUxldppX"
      },
      "source": [
        "## Предобработка текстового описания репозиториев\n",
        "\n",
        "> C горем пополам собрал датасет из 8247 строк, cостоящий из 3-ёх типов запросов с 2019 по 2024 года\n",
        "\n",
        "**`При применении методов машинного поиска для рекомендации NuGet зависимостей на основе текстовых описаний проектов, необходимо применять ту же самую предобработку к текстовому описанию, которое вводит пользователь, что и к данным в обучающем наборе, чтобы обеспечить согласованность данных и улучшить качество рекомендаций.`**\n",
        "\n",
        "Далее последовательность действий следующая:\n",
        "* Убрать специальные знаки, эмоджи\n",
        "* Там куча разных языков миксованных с английским, нужно оставить чисто английский\n",
        "* лемматизация/стемминг\n",
        "* word embeddings/sentences embeddings\n",
        "\n"
      ]
    },
    {
      "cell_type": "markdown",
      "metadata": {
        "id": "ZcciIhOphs3I"
      },
      "source": [
        "Перед векторизацией текста необходимо провести его предобработку, чтобы подготовить для обучения модели. Шаги, которые нужно выполнить:\n",
        "1. Токенизация - процесс разбиения текста на небольшие фрагменты, называемые токенами. Токены могут быть отдельными словами, символами, фразами или другими единицами текста в зависимости от задачи и контекста.\n",
        "2. Удаление стоп-слов - удаление слов, которые не несут значимой информации, таких как предлоги, артикли и т. д.\n",
        "Нормализация - приведение текста к стандартному виду, например, замена всех букв на нижний регистр.\n",
        "3. Лематизация - приведение слов к их словарной форме, например, глаголы в инфинитиве.\n",
        "4. Стемминг - сокращение слова до его основы, удаляя окончания и суффиксы.\n",
        "5. Расширение контекста - добавление слов вокруг целевого слова, чтобы увеличить контекст.\n",
        "6. Фильтрация - удаление редких и шумных слов, которые могут ухудшить качество модели.\n",
        "7. Разметка данных - разделение текста на тренировочную, тестовую и валидационную выборки."
      ]
    },
    {
      "cell_type": "markdown",
      "metadata": {
        "id": "pxZv4DjPigLN"
      },
      "source": [
        ">[Полезная статья с примером пайплайна для препроцессинга](https://habr.com/ru/articles/738176/) - это перевод, есть небольшие косяки, чекнуть комментарий к статье"
      ]
    },
    {
      "cell_type": "code",
      "execution_count": 1,
      "metadata": {
        "colab": {
          "base_uri": "https://localhost:8080/"
        },
        "id": "2d0mchchD2kt",
        "outputId": "a2342732-caeb-4b15-a6a4-774cb7d536cc"
      },
      "outputs": [
        {
          "name": "stderr",
          "output_type": "stream",
          "text": [
            "<ipython-input-1-5bcc61d61cd7>:20: MatplotlibDeprecationWarning: The seaborn styles shipped by Matplotlib are deprecated since 3.6, as they no longer correspond to the styles shipped by seaborn. However, they will remain available as 'seaborn-v0_8-<style>'. Alternatively, directly use the seaborn API instead.\n",
            "  plt.style.use('seaborn-whitegrid')\n"
          ]
        }
      ],
      "source": [
        "import numpy as np\n",
        "import pandas as pd\n",
        "import seaborn as sns\n",
        "import matplotlib.pyplot as plt\n",
        "\n",
        "from sklearn.feature_extraction.text import TfidfVectorizer\n",
        "from sklearn.metrics.pairwise import cosine_similarity\n",
        "\n",
        "import gc\n",
        "%matplotlib inline\n",
        "\n",
        "import sys\n",
        "np.set_printoptions(suppress=True)\n",
        "np.set_printoptions(threshold=sys.maxsize)\n",
        "np.set_printoptions(precision=3)\n",
        "\n",
        "DISPLAY_MAX_ROWS = 100 #20\n",
        "pd.set_option('display.max_rows', DISPLAY_MAX_ROWS)\n",
        "pd.set_option('display.max_column', 100) # None)\n",
        "plt.style.use('seaborn-whitegrid')\n",
        "\n",
        "import warnings\n",
        "warnings.filterwarnings('ignore')"
      ]
    },
    {
      "cell_type": "code",
      "execution_count": 2,
      "metadata": {
        "colab": {
          "base_uri": "https://localhost:8080/",
          "height": 0
        },
        "id": "lTils_CXD_BF",
        "outputId": "443b56d7-b1c1-4de7-f9dd-fb92b120d362"
      },
      "outputs": [
        {
          "data": {
            "application/vnd.google.colaboratory.intrinsic+json": {
              "summary": "{\n  \"name\": \"data\",\n  \"rows\": 8247,\n  \"fields\": [\n    {\n      \"column\": \"Repository\",\n      \"properties\": {\n        \"dtype\": \"string\",\n        \"num_unique_values\": 8222,\n        \"samples\": [\n          \"mobdk/WinTimer\",\n          \"renatogroffe/MFA_DevOpsExperience-Jan2024\",\n          \"riskydissonance/SharpCookieMonster\"\n        ],\n        \"semantic_type\": \"\",\n        \"description\": \"\"\n      }\n    },\n    {\n      \"column\": \"Description\",\n      \"properties\": {\n        \"dtype\": \"string\",\n        \"num_unique_values\": 8204,\n        \"samples\": [\n          \"Escalate as Administrator bypassing the UAC affecting administrator accounts only.\",\n          \"A 24/7 youtube music streaming bot created in C#.\",\n          \"\\u4e32\\u53e3\\u52a9\\u624b\"\n        ],\n        \"semantic_type\": \"\",\n        \"description\": \"\"\n      }\n    }\n  ]\n}",
              "type": "dataframe",
              "variable_name": "data"
            },
            "text/html": [
              "\n",
              "  <div id=\"df-91d55723-ddaf-4c57-a8f8-64afa43c2716\" class=\"colab-df-container\">\n",
              "    <div>\n",
              "<style scoped>\n",
              "    .dataframe tbody tr th:only-of-type {\n",
              "        vertical-align: middle;\n",
              "    }\n",
              "\n",
              "    .dataframe tbody tr th {\n",
              "        vertical-align: top;\n",
              "    }\n",
              "\n",
              "    .dataframe thead th {\n",
              "        text-align: right;\n",
              "    }\n",
              "</style>\n",
              "<table border=\"1\" class=\"dataframe\">\n",
              "  <thead>\n",
              "    <tr style=\"text-align: right;\">\n",
              "      <th></th>\n",
              "      <th>Repository</th>\n",
              "      <th>Description</th>\n",
              "    </tr>\n",
              "  </thead>\n",
              "  <tbody>\n",
              "    <tr>\n",
              "      <th>0</th>\n",
              "      <td>microsoft/PowerToys</td>\n",
              "      <td>Windows system utilities to maximize productivity</td>\n",
              "    </tr>\n",
              "    <tr>\n",
              "      <th>1</th>\n",
              "      <td>2dust/v2rayN</td>\n",
              "      <td>A GUI client for Windows, support Xray core an...</td>\n",
              "    </tr>\n",
              "    <tr>\n",
              "      <th>2</th>\n",
              "      <td>files-community/Files</td>\n",
              "      <td>Building the best file manager for Windows</td>\n",
              "    </tr>\n",
              "    <tr>\n",
              "      <th>3</th>\n",
              "      <td>huiyadanli/RevokeMsgPatcher</td>\n",
              "      <td>:trollface: A hex editor for WeChat/QQ/TIM - P...</td>\n",
              "    </tr>\n",
              "    <tr>\n",
              "      <th>4</th>\n",
              "      <td>netchx/netch</td>\n",
              "      <td>A simple proxy client</td>\n",
              "    </tr>\n",
              "    <tr>\n",
              "      <th>...</th>\n",
              "      <td>...</td>\n",
              "      <td>...</td>\n",
              "    </tr>\n",
              "    <tr>\n",
              "      <th>8242</th>\n",
              "      <td>fgilde/AuralizeBlazor</td>\n",
              "      <td>AuralizeBlazor is a wrapper component for audi...</td>\n",
              "    </tr>\n",
              "    <tr>\n",
              "      <th>8243</th>\n",
              "      <td>AcK77/TTGames-Explorer-Rebirth</td>\n",
              "      <td>TTGames modding tool</td>\n",
              "    </tr>\n",
              "    <tr>\n",
              "      <th>8244</th>\n",
              "      <td>mhdbouk/multitenantdemo</td>\n",
              "      <td>Source code for the YouTube video `Is Your .NE...</td>\n",
              "    </tr>\n",
              "    <tr>\n",
              "      <th>8245</th>\n",
              "      <td>CrazyZhang666/MarneTools</td>\n",
              "      <td>战地1马恩工具箱</td>\n",
              "    </tr>\n",
              "    <tr>\n",
              "      <th>8246</th>\n",
              "      <td>p-zach/godot-pixel-destruction</td>\n",
              "      <td>Pixel-perfect sprite and collision destruction...</td>\n",
              "    </tr>\n",
              "  </tbody>\n",
              "</table>\n",
              "<p>8247 rows × 2 columns</p>\n",
              "</div>\n",
              "    <div class=\"colab-df-buttons\">\n",
              "\n",
              "  <div class=\"colab-df-container\">\n",
              "    <button class=\"colab-df-convert\" onclick=\"convertToInteractive('df-91d55723-ddaf-4c57-a8f8-64afa43c2716')\"\n",
              "            title=\"Convert this dataframe to an interactive table.\"\n",
              "            style=\"display:none;\">\n",
              "\n",
              "  <svg xmlns=\"http://www.w3.org/2000/svg\" height=\"24px\" viewBox=\"0 -960 960 960\">\n",
              "    <path d=\"M120-120v-720h720v720H120Zm60-500h600v-160H180v160Zm220 220h160v-160H400v160Zm0 220h160v-160H400v160ZM180-400h160v-160H180v160Zm440 0h160v-160H620v160ZM180-180h160v-160H180v160Zm440 0h160v-160H620v160Z\"/>\n",
              "  </svg>\n",
              "    </button>\n",
              "\n",
              "  <style>\n",
              "    .colab-df-container {\n",
              "      display:flex;\n",
              "      gap: 12px;\n",
              "    }\n",
              "\n",
              "    .colab-df-convert {\n",
              "      background-color: #E8F0FE;\n",
              "      border: none;\n",
              "      border-radius: 50%;\n",
              "      cursor: pointer;\n",
              "      display: none;\n",
              "      fill: #1967D2;\n",
              "      height: 32px;\n",
              "      padding: 0 0 0 0;\n",
              "      width: 32px;\n",
              "    }\n",
              "\n",
              "    .colab-df-convert:hover {\n",
              "      background-color: #E2EBFA;\n",
              "      box-shadow: 0px 1px 2px rgba(60, 64, 67, 0.3), 0px 1px 3px 1px rgba(60, 64, 67, 0.15);\n",
              "      fill: #174EA6;\n",
              "    }\n",
              "\n",
              "    .colab-df-buttons div {\n",
              "      margin-bottom: 4px;\n",
              "    }\n",
              "\n",
              "    [theme=dark] .colab-df-convert {\n",
              "      background-color: #3B4455;\n",
              "      fill: #D2E3FC;\n",
              "    }\n",
              "\n",
              "    [theme=dark] .colab-df-convert:hover {\n",
              "      background-color: #434B5C;\n",
              "      box-shadow: 0px 1px 3px 1px rgba(0, 0, 0, 0.15);\n",
              "      filter: drop-shadow(0px 1px 2px rgba(0, 0, 0, 0.3));\n",
              "      fill: #FFFFFF;\n",
              "    }\n",
              "  </style>\n",
              "\n",
              "    <script>\n",
              "      const buttonEl =\n",
              "        document.querySelector('#df-91d55723-ddaf-4c57-a8f8-64afa43c2716 button.colab-df-convert');\n",
              "      buttonEl.style.display =\n",
              "        google.colab.kernel.accessAllowed ? 'block' : 'none';\n",
              "\n",
              "      async function convertToInteractive(key) {\n",
              "        const element = document.querySelector('#df-91d55723-ddaf-4c57-a8f8-64afa43c2716');\n",
              "        const dataTable =\n",
              "          await google.colab.kernel.invokeFunction('convertToInteractive',\n",
              "                                                    [key], {});\n",
              "        if (!dataTable) return;\n",
              "\n",
              "        const docLinkHtml = 'Like what you see? Visit the ' +\n",
              "          '<a target=\"_blank\" href=https://colab.research.google.com/notebooks/data_table.ipynb>data table notebook</a>'\n",
              "          + ' to learn more about interactive tables.';\n",
              "        element.innerHTML = '';\n",
              "        dataTable['output_type'] = 'display_data';\n",
              "        await google.colab.output.renderOutput(dataTable, element);\n",
              "        const docLink = document.createElement('div');\n",
              "        docLink.innerHTML = docLinkHtml;\n",
              "        element.appendChild(docLink);\n",
              "      }\n",
              "    </script>\n",
              "  </div>\n",
              "\n",
              "\n",
              "<div id=\"df-96b0f327-bd3e-45b2-8acc-e14890c51aab\">\n",
              "  <button class=\"colab-df-quickchart\" onclick=\"quickchart('df-96b0f327-bd3e-45b2-8acc-e14890c51aab')\"\n",
              "            title=\"Suggest charts\"\n",
              "            style=\"display:none;\">\n",
              "\n",
              "<svg xmlns=\"http://www.w3.org/2000/svg\" height=\"24px\"viewBox=\"0 0 24 24\"\n",
              "     width=\"24px\">\n",
              "    <g>\n",
              "        <path d=\"M19 3H5c-1.1 0-2 .9-2 2v14c0 1.1.9 2 2 2h14c1.1 0 2-.9 2-2V5c0-1.1-.9-2-2-2zM9 17H7v-7h2v7zm4 0h-2V7h2v10zm4 0h-2v-4h2v4z\"/>\n",
              "    </g>\n",
              "</svg>\n",
              "  </button>\n",
              "\n",
              "<style>\n",
              "  .colab-df-quickchart {\n",
              "      --bg-color: #E8F0FE;\n",
              "      --fill-color: #1967D2;\n",
              "      --hover-bg-color: #E2EBFA;\n",
              "      --hover-fill-color: #174EA6;\n",
              "      --disabled-fill-color: #AAA;\n",
              "      --disabled-bg-color: #DDD;\n",
              "  }\n",
              "\n",
              "  [theme=dark] .colab-df-quickchart {\n",
              "      --bg-color: #3B4455;\n",
              "      --fill-color: #D2E3FC;\n",
              "      --hover-bg-color: #434B5C;\n",
              "      --hover-fill-color: #FFFFFF;\n",
              "      --disabled-bg-color: #3B4455;\n",
              "      --disabled-fill-color: #666;\n",
              "  }\n",
              "\n",
              "  .colab-df-quickchart {\n",
              "    background-color: var(--bg-color);\n",
              "    border: none;\n",
              "    border-radius: 50%;\n",
              "    cursor: pointer;\n",
              "    display: none;\n",
              "    fill: var(--fill-color);\n",
              "    height: 32px;\n",
              "    padding: 0;\n",
              "    width: 32px;\n",
              "  }\n",
              "\n",
              "  .colab-df-quickchart:hover {\n",
              "    background-color: var(--hover-bg-color);\n",
              "    box-shadow: 0 1px 2px rgba(60, 64, 67, 0.3), 0 1px 3px 1px rgba(60, 64, 67, 0.15);\n",
              "    fill: var(--button-hover-fill-color);\n",
              "  }\n",
              "\n",
              "  .colab-df-quickchart-complete:disabled,\n",
              "  .colab-df-quickchart-complete:disabled:hover {\n",
              "    background-color: var(--disabled-bg-color);\n",
              "    fill: var(--disabled-fill-color);\n",
              "    box-shadow: none;\n",
              "  }\n",
              "\n",
              "  .colab-df-spinner {\n",
              "    border: 2px solid var(--fill-color);\n",
              "    border-color: transparent;\n",
              "    border-bottom-color: var(--fill-color);\n",
              "    animation:\n",
              "      spin 1s steps(1) infinite;\n",
              "  }\n",
              "\n",
              "  @keyframes spin {\n",
              "    0% {\n",
              "      border-color: transparent;\n",
              "      border-bottom-color: var(--fill-color);\n",
              "      border-left-color: var(--fill-color);\n",
              "    }\n",
              "    20% {\n",
              "      border-color: transparent;\n",
              "      border-left-color: var(--fill-color);\n",
              "      border-top-color: var(--fill-color);\n",
              "    }\n",
              "    30% {\n",
              "      border-color: transparent;\n",
              "      border-left-color: var(--fill-color);\n",
              "      border-top-color: var(--fill-color);\n",
              "      border-right-color: var(--fill-color);\n",
              "    }\n",
              "    40% {\n",
              "      border-color: transparent;\n",
              "      border-right-color: var(--fill-color);\n",
              "      border-top-color: var(--fill-color);\n",
              "    }\n",
              "    60% {\n",
              "      border-color: transparent;\n",
              "      border-right-color: var(--fill-color);\n",
              "    }\n",
              "    80% {\n",
              "      border-color: transparent;\n",
              "      border-right-color: var(--fill-color);\n",
              "      border-bottom-color: var(--fill-color);\n",
              "    }\n",
              "    90% {\n",
              "      border-color: transparent;\n",
              "      border-bottom-color: var(--fill-color);\n",
              "    }\n",
              "  }\n",
              "</style>\n",
              "\n",
              "  <script>\n",
              "    async function quickchart(key) {\n",
              "      const quickchartButtonEl =\n",
              "        document.querySelector('#' + key + ' button');\n",
              "      quickchartButtonEl.disabled = true;  // To prevent multiple clicks.\n",
              "      quickchartButtonEl.classList.add('colab-df-spinner');\n",
              "      try {\n",
              "        const charts = await google.colab.kernel.invokeFunction(\n",
              "            'suggestCharts', [key], {});\n",
              "      } catch (error) {\n",
              "        console.error('Error during call to suggestCharts:', error);\n",
              "      }\n",
              "      quickchartButtonEl.classList.remove('colab-df-spinner');\n",
              "      quickchartButtonEl.classList.add('colab-df-quickchart-complete');\n",
              "    }\n",
              "    (() => {\n",
              "      let quickchartButtonEl =\n",
              "        document.querySelector('#df-96b0f327-bd3e-45b2-8acc-e14890c51aab button');\n",
              "      quickchartButtonEl.style.display =\n",
              "        google.colab.kernel.accessAllowed ? 'block' : 'none';\n",
              "    })();\n",
              "  </script>\n",
              "</div>\n",
              "    </div>\n",
              "  </div>\n"
            ],
            "text/plain": [
              "                          Repository  \\\n",
              "0                microsoft/PowerToys   \n",
              "1                       2dust/v2rayN   \n",
              "2              files-community/Files   \n",
              "3        huiyadanli/RevokeMsgPatcher   \n",
              "4                       netchx/netch   \n",
              "...                              ...   \n",
              "8242           fgilde/AuralizeBlazor   \n",
              "8243  AcK77/TTGames-Explorer-Rebirth   \n",
              "8244         mhdbouk/multitenantdemo   \n",
              "8245        CrazyZhang666/MarneTools   \n",
              "8246  p-zach/godot-pixel-destruction   \n",
              "\n",
              "                                            Description  \n",
              "0     Windows system utilities to maximize productivity  \n",
              "1     A GUI client for Windows, support Xray core an...  \n",
              "2            Building the best file manager for Windows  \n",
              "3     :trollface: A hex editor for WeChat/QQ/TIM - P...  \n",
              "4                                 A simple proxy client  \n",
              "...                                                 ...  \n",
              "8242  AuralizeBlazor is a wrapper component for audi...  \n",
              "8243                               TTGames modding tool  \n",
              "8244  Source code for the YouTube video `Is Your .NE...  \n",
              "8245                                           战地1马恩工具箱  \n",
              "8246  Pixel-perfect sprite and collision destruction...  \n",
              "\n",
              "[8247 rows x 2 columns]"
            ]
          },
          "execution_count": 2,
          "metadata": {},
          "output_type": "execute_result"
        }
      ],
      "source": [
        "# Load the CSV dataset\n",
        "data = pd.read_csv(\"/content/repos_data.csv\")\n",
        "data.drop_duplicates()\n",
        "data.dropna()\n",
        "data"
      ]
    },
    {
      "cell_type": "code",
      "execution_count": 3,
      "metadata": {
        "colab": {
          "base_uri": "https://localhost:8080/"
        },
        "id": "F2NGwh7ILhsB",
        "outputId": "838a8f91-1e2e-4fd8-c4e7-337fd834eb54"
      },
      "outputs": [
        {
          "name": "stdout",
          "output_type": "stream",
          "text": [
            "Repository     0\n",
            "Description    0\n",
            "dtype: int64\n",
            "\n",
            "Repository     0\n",
            "Description    0\n",
            "dtype: int64\n"
          ]
        }
      ],
      "source": [
        "print(data.isna().sum())\n",
        "print()\n",
        "print(data.isnull().sum())"
      ]
    },
    {
      "cell_type": "markdown",
      "metadata": {
        "id": "whb7pGulsYfh"
      },
      "source": [
        "### Очистка мусора, конвертация эмоджи\n",
        "\n",
        "> Есть описания состоящие из непонятных мне иероглифов, после обработки описание становится пустым - с этим нужно что-то делать (либо терять данные - удалять, либо запариться и переводить на английский, но могут появиться неточности перевода и появится шум...)"
      ]
    },
    {
      "cell_type": "code",
      "execution_count": 4,
      "metadata": {
        "colab": {
          "base_uri": "https://localhost:8080/"
        },
        "id": "scWteTOyni7j",
        "outputId": "8013af6b-5360-4974-9b8b-53ac0c53f7f9"
      },
      "outputs": [
        {
          "name": "stdout",
          "output_type": "stream",
          "text": [
            "\u001b[31mERROR: Could not find a version that satisfies the requirement re (from versions: none)\u001b[0m\u001b[31m\n",
            "\u001b[0m\u001b[31mERROR: No matching distribution found for re\u001b[0m\u001b[31m\n",
            "\u001b[0mRequirement already satisfied: nltk in /usr/local/lib/python3.10/dist-packages (3.8.1)\n",
            "Requirement already satisfied: click in /usr/local/lib/python3.10/dist-packages (from nltk) (8.1.7)\n",
            "Requirement already satisfied: joblib in /usr/local/lib/python3.10/dist-packages (from nltk) (1.4.2)\n",
            "Requirement already satisfied: regex>=2021.8.3 in /usr/local/lib/python3.10/dist-packages (from nltk) (2023.12.25)\n",
            "Requirement already satisfied: tqdm in /usr/local/lib/python3.10/dist-packages (from nltk) (4.66.4)\n",
            "\u001b[31mERROR: Could not find a version that satisfies the requirement unicodedata (from versions: none)\u001b[0m\u001b[31m\n",
            "\u001b[0m\u001b[31mERROR: No matching distribution found for unicodedata\u001b[0m\u001b[31m\n",
            "\u001b[0mCollecting contractions\n",
            "  Downloading contractions-0.1.73-py2.py3-none-any.whl (8.7 kB)\n",
            "Collecting textsearch>=0.0.21 (from contractions)\n",
            "  Downloading textsearch-0.0.24-py2.py3-none-any.whl (7.6 kB)\n",
            "Collecting anyascii (from textsearch>=0.0.21->contractions)\n",
            "  Downloading anyascii-0.3.2-py3-none-any.whl (289 kB)\n",
            "\u001b[2K     \u001b[90m━━━━━━━━━━━━━━━━━━━━━━━━━━━━━━━━━━━━━━━━\u001b[0m \u001b[32m289.9/289.9 kB\u001b[0m \u001b[31m5.5 MB/s\u001b[0m eta \u001b[36m0:00:00\u001b[0m\n",
            "\u001b[?25hCollecting pyahocorasick (from textsearch>=0.0.21->contractions)\n",
            "  Downloading pyahocorasick-2.1.0-cp310-cp310-manylinux_2_5_x86_64.manylinux1_x86_64.manylinux_2_12_x86_64.manylinux2010_x86_64.whl (110 kB)\n",
            "\u001b[2K     \u001b[90m━━━━━━━━━━━━━━━━━━━━━━━━━━━━━━━━━━━━━━━━\u001b[0m \u001b[32m110.7/110.7 kB\u001b[0m \u001b[31m15.6 MB/s\u001b[0m eta \u001b[36m0:00:00\u001b[0m\n",
            "\u001b[?25hInstalling collected packages: pyahocorasick, anyascii, textsearch, contractions\n",
            "Successfully installed anyascii-0.3.2 contractions-0.1.73 pyahocorasick-2.1.0 textsearch-0.0.24\n",
            "Requirement already satisfied: inflect in /usr/local/lib/python3.10/dist-packages (7.0.0)\n",
            "Requirement already satisfied: pydantic>=1.9.1 in /usr/local/lib/python3.10/dist-packages (from inflect) (2.7.1)\n",
            "Requirement already satisfied: typing-extensions in /usr/local/lib/python3.10/dist-packages (from inflect) (4.11.0)\n",
            "Requirement already satisfied: annotated-types>=0.4.0 in /usr/local/lib/python3.10/dist-packages (from pydantic>=1.9.1->inflect) (0.6.0)\n",
            "Requirement already satisfied: pydantic-core==2.18.2 in /usr/local/lib/python3.10/dist-packages (from pydantic>=1.9.1->inflect) (2.18.2)\n",
            "Collecting emoji\n",
            "  Downloading emoji-2.11.1-py2.py3-none-any.whl (433 kB)\n",
            "\u001b[2K     \u001b[90m━━━━━━━━━━━━━━━━━━━━━━━━━━━━━━━━━━━━━━━━\u001b[0m \u001b[32m433.8/433.8 kB\u001b[0m \u001b[31m5.9 MB/s\u001b[0m eta \u001b[36m0:00:00\u001b[0m\n",
            "\u001b[?25hInstalling collected packages: emoji\n",
            "Successfully installed emoji-2.11.1\n"
          ]
        },
        {
          "name": "stderr",
          "output_type": "stream",
          "text": [
            "[nltk_data] Downloading package stopwords to /root/nltk_data...\n",
            "[nltk_data]   Unzipping corpora/stopwords.zip.\n",
            "[nltk_data] Downloading package punkt to /root/nltk_data...\n",
            "[nltk_data]   Unzipping tokenizers/punkt.zip.\n"
          ]
        },
        {
          "data": {
            "text/plain": [
              "True"
            ]
          },
          "execution_count": 4,
          "metadata": {},
          "output_type": "execute_result"
        }
      ],
      "source": [
        "%pip install re\n",
        "%pip install nltk\n",
        "%pip install unicodedata\n",
        "%pip install contractions\n",
        "%pip install inflect\n",
        "%pip install emoji\n",
        "\n",
        "import re\n",
        "import nltk\n",
        "import emoji\n",
        "import unicodedata\n",
        "import contractions\n",
        "import inflect\n",
        "from nltk.corpus import stopwords\n",
        "from nltk.tokenize import word_tokenize\n",
        "\n",
        "nltk.download('stopwords')\n",
        "nltk.download('punkt')"
      ]
    },
    {
      "cell_type": "markdown",
      "metadata": {
        "id": "x2w9np0kADEE"
      },
      "source": [
        "Разбиение на пробелы может привести к тому, что то, что следует рассматривать как один токен, может быть разбито на два, как в случае с некоторыми именами собственными (например, Сан-Франциско или Нью-Йорк) или заимствованными иностранными фразами (например, laissez faire).\n",
        "\n",
        "**Токенизация** также может удалить знаки препинания, упрощая путь к правильной сегментации слов, но также потенциально вызывая другие сложности. В случае точек, которые следуют за аббревиатурой (например, dr.), точка после этой аббревиатуры должна рассматриваться как часть того же токена и не удаляться.\n",
        "\n",
        "Процесс токенизации может быть особенно проблематичным при работе с биомедицинскими текстами, которые содержат много дефисов, скобок и других знаков препинания.\n"
      ]
    },
    {
      "cell_type": "code",
      "execution_count": 5,
      "metadata": {
        "id": "mJX4kIw7oBZL"
      },
      "outputs": [],
      "source": [
        "# Функция для очистки текста\n",
        "def clean_text(input_text):\n",
        "\n",
        "    # HTML-теги: первый шаг - удалить из входного текста все HTML-теги\n",
        "    clean_text = re.sub('<[^<]+?>', '', input_text)\n",
        "\n",
        "    # URL и ссылки: далее - удаляем из текста все URL и ссылки\n",
        "    clean_text = re.sub(r'http\\S+', '', clean_text)\n",
        "\n",
        "    # Эмоджи и эмотиконы: удаляем их нафиг, это кринж какой-то бессмысленный, только шума добавят\n",
        "    clean_text = remove_emojis(clean_text)\n",
        "\n",
        "    # Приводим все входные данные к нижнему регистру\n",
        "    clean_text = clean_text.lower()\n",
        "\n",
        "    # Убираем все пробелы\n",
        "    # Так как все данные теперь представлены словами - удалим пробелы\n",
        "    clean_text = re.sub('\\s+', ' ', clean_text)\n",
        "\n",
        "    # Преобразование символов с диакритическими знаками к ASCII-символам: используем функцию normalize из модуля unicodedata и преобразуем символы с диакритическими знаками к ASCII-символам\n",
        "    clean_text = unicodedata.normalize('NFKD', clean_text).encode('ascii', 'ignore').decode('utf-8', 'ignore')\n",
        "\n",
        "    # Разворачиваем сокращения: текст часто содержит конструкции вроде \"don't\" или \"won't\", поэтому развернём подобные сокращения\n",
        "    clean_text = contractions.fix(clean_text)\n",
        "\n",
        "    # Специальные случаи для языков программирования\n",
        "    clean_text = re.sub(r'c\\#', 'csharp', clean_text)\n",
        "    clean_text = re.sub(r'c\\+\\+', 'cpp', clean_text)\n",
        "\n",
        "    # Убираем специальные символы: избавляемся от всего, что не является \"словами\"\n",
        "    clean_text = re.sub('[^a-zA-Z0-9\\s]', '', clean_text)\n",
        "\n",
        "    # Записываем числа прописью: 100 превращается в \"сто\" (для компьютера)\n",
        "    temp = inflect.engine()\n",
        "    words = []\n",
        "    for word in clean_text.split():\n",
        "        if word.isdigit():\n",
        "            words.append(temp.number_to_words(word))\n",
        "        else:\n",
        "            words.append(word)\n",
        "    clean_text = ' '.join(words)\n",
        "\n",
        "    # Стоп-слова: удаление стоп-слов - это стандартная практика очистки текстов\n",
        "    stop_words = set(stopwords.words('english'))\n",
        "    tokens = word_tokenize(clean_text)\n",
        "    tokens = [token for token in tokens if token not in stop_words]\n",
        "    clean_text = ' '.join(tokens)\n",
        "\n",
        "    # Add full-stop to end of sentences\n",
        "    clean_text = re.sub('([a-z])\\.([A-Z])', r'\\1. \\2', clean_text)\n",
        "\n",
        "    # Знаки препинания: далее - удаляем из текста все знаки препинания\n",
        "    clean_text = re.sub(r'[^\\w\\s]', '', clean_text)\n",
        "\n",
        "    # И наконец - возвращаем очищенный текст\n",
        "    return clean_text\n",
        "\n",
        "# Функция для преобразования эмоджи в слова\n",
        "def emojis_to_txt(text):\n",
        "\n",
        "    # Модуль emoji: преобразование эмоджи в их словесные описания\n",
        "    clean_text = emoji.demojize(text, delimiters=(\" \", \" \"))\n",
        "\n",
        "    # Редактирование текста путём замены \":\" и\" _\", а так же - путём добавления пробела между отдельными словами\n",
        "    clean_text = clean_text.replace(\":\", \"\").replace(\"_\", \" \")\n",
        "\n",
        "    return clean_text\n",
        "\n",
        "def remove_emojis(text):\n",
        "    emoji_pattern = re.compile(\n",
        "        \"[\"\n",
        "        \"\\U00010000-\\U0010FFFF\"  # Unicode characters beyond the Basic Multilingual Plane\n",
        "        \"\\u200d\"  # Zero-width joiner\n",
        "        \"\\u2640-\\u2642\"  # Male and female signs\n",
        "        \"\\u2600-\\u26FF\"  # Miscellaneous symbols\n",
        "        \"\\u2700-\\u27BF\"  # Dingbats\n",
        "        \"]+\",\n",
        "        flags=re.UNICODE\n",
        "    )\n",
        "    return emoji_pattern.sub(r'', text)"
      ]
    },
    {
      "cell_type": "code",
      "execution_count": 6,
      "metadata": {
        "colab": {
          "base_uri": "https://localhost:8080/"
        },
        "id": "R73E3pQgq-e1",
        "outputId": "b1e74079-5d92-4cf7-b1ac-4a24df92e823"
      },
      "outputs": [
        {
          "name": "stdout",
          "output_type": "stream",
          "text": [
            " This is a sample text witgh an emoji  [blablabla] (^) :trollface:\n"
          ]
        }
      ],
      "source": [
        "test_with_emojis = \"😊 This is a sample 😊text witgh an emoji 😊 [blablabla] (^🧩) :trollface:\"\n",
        "text_without_emojis = remove_emojis(test_with_emojis)\n",
        "print(text_without_emojis)"
      ]
    },
    {
      "cell_type": "markdown",
      "metadata": {
        "id": "KcNswJ3Zs3Xk"
      },
      "source": [
        "### Лемматизация и Частеречная разметка текста"
      ]
    },
    {
      "cell_type": "code",
      "execution_count": null,
      "metadata": {
        "colab": {
          "base_uri": "https://localhost:8080/"
        },
        "id": "a7wFyR8IxIP-",
        "outputId": "dffcbb4b-2837-4682-967d-da11fb3bbba5"
      },
      "outputs": [
        {
          "name": "stdout",
          "output_type": "stream",
          "text": [
            "Requirement already satisfied: spacy in /usr/local/lib/python3.10/dist-packages (3.7.4)\n",
            "Requirement already satisfied: spacy-legacy<3.1.0,>=3.0.11 in /usr/local/lib/python3.10/dist-packages (from spacy) (3.0.12)\n",
            "Requirement already satisfied: spacy-loggers<2.0.0,>=1.0.0 in /usr/local/lib/python3.10/dist-packages (from spacy) (1.0.5)\n",
            "Requirement already satisfied: murmurhash<1.1.0,>=0.28.0 in /usr/local/lib/python3.10/dist-packages (from spacy) (1.0.10)\n",
            "Requirement already satisfied: cymem<2.1.0,>=2.0.2 in /usr/local/lib/python3.10/dist-packages (from spacy) (2.0.8)\n",
            "Requirement already satisfied: preshed<3.1.0,>=3.0.2 in /usr/local/lib/python3.10/dist-packages (from spacy) (3.0.9)\n",
            "Requirement already satisfied: thinc<8.3.0,>=8.2.2 in /usr/local/lib/python3.10/dist-packages (from spacy) (8.2.3)\n",
            "Requirement already satisfied: wasabi<1.2.0,>=0.9.1 in /usr/local/lib/python3.10/dist-packages (from spacy) (1.1.2)\n",
            "Requirement already satisfied: srsly<3.0.0,>=2.4.3 in /usr/local/lib/python3.10/dist-packages (from spacy) (2.4.8)\n",
            "Requirement already satisfied: catalogue<2.1.0,>=2.0.6 in /usr/local/lib/python3.10/dist-packages (from spacy) (2.0.10)\n",
            "Requirement already satisfied: weasel<0.4.0,>=0.1.0 in /usr/local/lib/python3.10/dist-packages (from spacy) (0.3.4)\n",
            "Requirement already satisfied: typer<0.10.0,>=0.3.0 in /usr/local/lib/python3.10/dist-packages (from spacy) (0.9.4)\n",
            "Requirement already satisfied: smart-open<7.0.0,>=5.2.1 in /usr/local/lib/python3.10/dist-packages (from spacy) (6.4.0)\n",
            "Requirement already satisfied: tqdm<5.0.0,>=4.38.0 in /usr/local/lib/python3.10/dist-packages (from spacy) (4.66.4)\n",
            "Requirement already satisfied: requests<3.0.0,>=2.13.0 in /usr/local/lib/python3.10/dist-packages (from spacy) (2.31.0)\n",
            "Requirement already satisfied: pydantic!=1.8,!=1.8.1,<3.0.0,>=1.7.4 in /usr/local/lib/python3.10/dist-packages (from spacy) (2.7.1)\n",
            "Requirement already satisfied: jinja2 in /usr/local/lib/python3.10/dist-packages (from spacy) (3.1.4)\n",
            "Requirement already satisfied: setuptools in /usr/local/lib/python3.10/dist-packages (from spacy) (67.7.2)\n",
            "Requirement already satisfied: packaging>=20.0 in /usr/local/lib/python3.10/dist-packages (from spacy) (24.0)\n",
            "Requirement already satisfied: langcodes<4.0.0,>=3.2.0 in /usr/local/lib/python3.10/dist-packages (from spacy) (3.4.0)\n",
            "Requirement already satisfied: numpy>=1.19.0 in /usr/local/lib/python3.10/dist-packages (from spacy) (1.25.2)\n",
            "Requirement already satisfied: language-data>=1.2 in /usr/local/lib/python3.10/dist-packages (from langcodes<4.0.0,>=3.2.0->spacy) (1.2.0)\n",
            "Requirement already satisfied: annotated-types>=0.4.0 in /usr/local/lib/python3.10/dist-packages (from pydantic!=1.8,!=1.8.1,<3.0.0,>=1.7.4->spacy) (0.6.0)\n",
            "Requirement already satisfied: pydantic-core==2.18.2 in /usr/local/lib/python3.10/dist-packages (from pydantic!=1.8,!=1.8.1,<3.0.0,>=1.7.4->spacy) (2.18.2)\n",
            "Requirement already satisfied: typing-extensions>=4.6.1 in /usr/local/lib/python3.10/dist-packages (from pydantic!=1.8,!=1.8.1,<3.0.0,>=1.7.4->spacy) (4.11.0)\n",
            "Requirement already satisfied: charset-normalizer<4,>=2 in /usr/local/lib/python3.10/dist-packages (from requests<3.0.0,>=2.13.0->spacy) (3.3.2)\n",
            "Requirement already satisfied: idna<4,>=2.5 in /usr/local/lib/python3.10/dist-packages (from requests<3.0.0,>=2.13.0->spacy) (3.7)\n",
            "Requirement already satisfied: urllib3<3,>=1.21.1 in /usr/local/lib/python3.10/dist-packages (from requests<3.0.0,>=2.13.0->spacy) (2.0.7)\n",
            "Requirement already satisfied: certifi>=2017.4.17 in /usr/local/lib/python3.10/dist-packages (from requests<3.0.0,>=2.13.0->spacy) (2024.2.2)\n",
            "Requirement already satisfied: blis<0.8.0,>=0.7.8 in /usr/local/lib/python3.10/dist-packages (from thinc<8.3.0,>=8.2.2->spacy) (0.7.11)\n",
            "Requirement already satisfied: confection<1.0.0,>=0.0.1 in /usr/local/lib/python3.10/dist-packages (from thinc<8.3.0,>=8.2.2->spacy) (0.1.4)\n",
            "Requirement already satisfied: click<9.0.0,>=7.1.1 in /usr/local/lib/python3.10/dist-packages (from typer<0.10.0,>=0.3.0->spacy) (8.1.7)\n",
            "Requirement already satisfied: cloudpathlib<0.17.0,>=0.7.0 in /usr/local/lib/python3.10/dist-packages (from weasel<0.4.0,>=0.1.0->spacy) (0.16.0)\n",
            "Requirement already satisfied: MarkupSafe>=2.0 in /usr/local/lib/python3.10/dist-packages (from jinja2->spacy) (2.1.5)\n",
            "Requirement already satisfied: marisa-trie>=0.7.7 in /usr/local/lib/python3.10/dist-packages (from language-data>=1.2->langcodes<4.0.0,>=3.2.0->spacy) (1.1.1)\n"
          ]
        },
        {
          "name": "stderr",
          "output_type": "stream",
          "text": [
            "[nltk_data] Downloading package averaged_perceptron_tagger to\n",
            "[nltk_data]     /root/nltk_data...\n",
            "[nltk_data]   Unzipping taggers/averaged_perceptron_tagger.zip.\n"
          ]
        }
      ],
      "source": [
        "# Подготовка к частеречной разметке текста путём установки библиотеки Spacy, загрузки perceptron_tagger и модуля Spacy en\n",
        "%pip install spacy\n",
        "nltk.download('averaged_perceptron_tagger')\n",
        "!python -m spacy download en_core_web_sm\n",
        "\n",
        "import spacy\n",
        "\n",
        "nlp = spacy.load('en_core_web_sm')\n",
        "lemmatize_exceptions = ['ios', 'mmorts']"
      ]
    },
    {
      "cell_type": "code",
      "execution_count": null,
      "metadata": {
        "id": "U5EfEuc6tBJN"
      },
      "outputs": [],
      "source": [
        "def lemmatize_and_postag(input_text):\n",
        "\n",
        "    doc = nlp(input_text)\n",
        "    lemmatize_output = []\n",
        "\n",
        "    # Iterate over each token in the document\n",
        "    for token in doc:\n",
        "        if token.text in lemmatize_exceptions:\n",
        "            lemmatize_output.append(token.text + '_' + token.pos_)\n",
        "        else:\n",
        "            # Append the token lemma and its POS tag to the tagged_output list\n",
        "            lemmatize_output.append(token.lemma_ + '_' + token.pos_)\n",
        "\n",
        "    # Join the tagged_output list into a single string\n",
        "    lemmatize_output_str = ' '.join(lemmatize_output)\n",
        "\n",
        "    return lemmatize_output_str"
      ]
    },
    {
      "cell_type": "code",
      "execution_count": null,
      "metadata": {
        "id": "26BjSW5k7YQB"
      },
      "outputs": [],
      "source": [
        "def preprocesse(input_text):\n",
        "    clear_text = clean_text(input_text)\n",
        "    #print(\"\\nОчистка мусора, конвертация эмоджи:\\n\", clear_text)\n",
        "\n",
        "    tagged_output = lemmatize_and_postag(clear_text)\n",
        "    #print(\"\\nЧастеречная разметка и лемматизация:\\n\", tagged_output)\n",
        "\n",
        "    return tagged_output"
      ]
    },
    {
      "cell_type": "markdown",
      "metadata": {
        "id": "3zupgiru1WrK"
      },
      "source": [
        "## Собираем все вместе и предобрабатываем"
      ]
    },
    {
      "cell_type": "code",
      "execution_count": null,
      "metadata": {
        "colab": {
          "base_uri": "https://localhost:8080/"
        },
        "id": "cHby490fvMhy",
        "outputId": "198a90d1-b419-4928-9345-c74a2a9d9a26"
      },
      "outputs": [
        {
          "data": {
            "text/plain": [
              "Repository     0\n",
              "Description    0\n",
              "dtype: int64"
            ]
          },
          "execution_count": 14,
          "metadata": {},
          "output_type": "execute_result"
        }
      ],
      "source": [
        "data.isna().sum()"
      ]
    },
    {
      "cell_type": "code",
      "execution_count": null,
      "metadata": {
        "id": "p6NGJzvzyi-L"
      },
      "outputs": [],
      "source": [
        "data.Description = data.Description.apply(clean_text)"
      ]
    },
    {
      "cell_type": "code",
      "execution_count": null,
      "metadata": {
        "id": "YR7VofhBvywM"
      },
      "outputs": [],
      "source": [
        "data.to_csv(\"clean_data.csv\", index=False, columns=[\"Repository\", \"Description\"])"
      ]
    },
    {
      "cell_type": "code",
      "execution_count": null,
      "metadata": {
        "colab": {
          "base_uri": "https://localhost:8080/"
        },
        "id": "EDSbuzkU19Zg",
        "outputId": "8945d2d2-89e5-4a7c-de13-3c122fd56ce7"
      },
      "outputs": [
        {
          "data": {
            "text/plain": [
              "Repository     0\n",
              "Description    0\n",
              "dtype: int64"
            ]
          },
          "execution_count": 16,
          "metadata": {},
          "output_type": "execute_result"
        }
      ],
      "source": [
        "data.isna().sum()"
      ]
    },
    {
      "cell_type": "code",
      "execution_count": null,
      "metadata": {
        "colab": {
          "base_uri": "https://localhost:8080/",
          "height": 90
        },
        "id": "cCH2QlS16QSq",
        "outputId": "ce853e25-7936-4686-b61c-2f53e68c484c"
      },
      "outputs": [
        {
          "data": {
            "application/vnd.google.colaboratory.intrinsic+json": {
              "summary": "{\n  \"name\": \"data\",\n  \"rows\": 8247,\n  \"fields\": [\n    {\n      \"column\": \"Repository\",\n      \"properties\": {\n        \"dtype\": \"string\",\n        \"num_unique_values\": 8222,\n        \"samples\": [\n          \"mobdk/WinTimer\",\n          \"renatogroffe/MFA_DevOpsExperience-Jan2024\",\n          \"riskydissonance/SharpCookieMonster\"\n        ],\n        \"semantic_type\": \"\",\n        \"description\": \"\"\n      }\n    },\n    {\n      \"column\": \"Description\",\n      \"properties\": {\n        \"dtype\": \"string\",\n        \"num_unique_values\": 8030,\n        \"samples\": [\n          \"append supplemental methodswhenany whenall lazy valuetask\",\n          \"versao boletonet para net core\",\n          \"product information aggregator made using aspnetcore mongodb targets red sky api\"\n        ],\n        \"semantic_type\": \"\",\n        \"description\": \"\"\n      }\n    }\n  ]\n}",
              "type": "dataframe",
              "variable_name": "data"
            },
            "text/html": [
              "\n",
              "  <div id=\"df-920d1442-04df-4387-b710-e13b8e4bc154\" class=\"colab-df-container\">\n",
              "    <div>\n",
              "<style scoped>\n",
              "    .dataframe tbody tr th:only-of-type {\n",
              "        vertical-align: middle;\n",
              "    }\n",
              "\n",
              "    .dataframe tbody tr th {\n",
              "        vertical-align: top;\n",
              "    }\n",
              "\n",
              "    .dataframe thead th {\n",
              "        text-align: right;\n",
              "    }\n",
              "</style>\n",
              "<table border=\"1\" class=\"dataframe\">\n",
              "  <thead>\n",
              "    <tr style=\"text-align: right;\">\n",
              "      <th></th>\n",
              "      <th>Repository</th>\n",
              "      <th>Description</th>\n",
              "    </tr>\n",
              "  </thead>\n",
              "  <tbody>\n",
              "    <tr>\n",
              "      <th>0</th>\n",
              "      <td>microsoft/PowerToys</td>\n",
              "      <td>windows system utilities maximize productivity</td>\n",
              "    </tr>\n",
              "    <tr>\n",
              "      <th>1</th>\n",
              "      <td>2dust/v2rayN</td>\n",
              "      <td>gui client windows support xray core v2fly cor...</td>\n",
              "    </tr>\n",
              "    <tr>\n",
              "      <th>2</th>\n",
              "      <td>files-community/Files</td>\n",
              "      <td>building best file manager windows</td>\n",
              "    </tr>\n",
              "    <tr>\n",
              "      <th>3</th>\n",
              "      <td>huiyadanli/RevokeMsgPatcher</td>\n",
              "      <td>trollface hex editor wechatqqtim pcqqtim</td>\n",
              "    </tr>\n",
              "    <tr>\n",
              "      <th>4</th>\n",
              "      <td>netchx/netch</td>\n",
              "      <td>simple proxy client</td>\n",
              "    </tr>\n",
              "    <tr>\n",
              "      <th>...</th>\n",
              "      <td>...</td>\n",
              "      <td>...</td>\n",
              "    </tr>\n",
              "    <tr>\n",
              "      <th>8242</th>\n",
              "      <td>fgilde/AuralizeBlazor</td>\n",
              "      <td>auralizeblazor wrapper component audiomotionan...</td>\n",
              "    </tr>\n",
              "    <tr>\n",
              "      <th>8243</th>\n",
              "      <td>AcK77/TTGames-Explorer-Rebirth</td>\n",
              "      <td>ttgames modding tool</td>\n",
              "    </tr>\n",
              "    <tr>\n",
              "      <th>8244</th>\n",
              "      <td>mhdbouk/multitenantdemo</td>\n",
              "      <td>source code youtube video net app multitenant ...</td>\n",
              "    </tr>\n",
              "    <tr>\n",
              "      <th>8245</th>\n",
              "      <td>CrazyZhang666/MarneTools</td>\n",
              "      <td>one</td>\n",
              "    </tr>\n",
              "    <tr>\n",
              "      <th>8246</th>\n",
              "      <td>p-zach/godot-pixel-destruction</td>\n",
              "      <td>pixelperfect sprite collision destruction godo...</td>\n",
              "    </tr>\n",
              "  </tbody>\n",
              "</table>\n",
              "<p>8247 rows × 2 columns</p>\n",
              "</div>\n",
              "    <div class=\"colab-df-buttons\">\n",
              "\n",
              "  <div class=\"colab-df-container\">\n",
              "    <button class=\"colab-df-convert\" onclick=\"convertToInteractive('df-920d1442-04df-4387-b710-e13b8e4bc154')\"\n",
              "            title=\"Convert this dataframe to an interactive table.\"\n",
              "            style=\"display:none;\">\n",
              "\n",
              "  <svg xmlns=\"http://www.w3.org/2000/svg\" height=\"24px\" viewBox=\"0 -960 960 960\">\n",
              "    <path d=\"M120-120v-720h720v720H120Zm60-500h600v-160H180v160Zm220 220h160v-160H400v160Zm0 220h160v-160H400v160ZM180-400h160v-160H180v160Zm440 0h160v-160H620v160ZM180-180h160v-160H180v160Zm440 0h160v-160H620v160Z\"/>\n",
              "  </svg>\n",
              "    </button>\n",
              "\n",
              "  <style>\n",
              "    .colab-df-container {\n",
              "      display:flex;\n",
              "      gap: 12px;\n",
              "    }\n",
              "\n",
              "    .colab-df-convert {\n",
              "      background-color: #E8F0FE;\n",
              "      border: none;\n",
              "      border-radius: 50%;\n",
              "      cursor: pointer;\n",
              "      display: none;\n",
              "      fill: #1967D2;\n",
              "      height: 32px;\n",
              "      padding: 0 0 0 0;\n",
              "      width: 32px;\n",
              "    }\n",
              "\n",
              "    .colab-df-convert:hover {\n",
              "      background-color: #E2EBFA;\n",
              "      box-shadow: 0px 1px 2px rgba(60, 64, 67, 0.3), 0px 1px 3px 1px rgba(60, 64, 67, 0.15);\n",
              "      fill: #174EA6;\n",
              "    }\n",
              "\n",
              "    .colab-df-buttons div {\n",
              "      margin-bottom: 4px;\n",
              "    }\n",
              "\n",
              "    [theme=dark] .colab-df-convert {\n",
              "      background-color: #3B4455;\n",
              "      fill: #D2E3FC;\n",
              "    }\n",
              "\n",
              "    [theme=dark] .colab-df-convert:hover {\n",
              "      background-color: #434B5C;\n",
              "      box-shadow: 0px 1px 3px 1px rgba(0, 0, 0, 0.15);\n",
              "      filter: drop-shadow(0px 1px 2px rgba(0, 0, 0, 0.3));\n",
              "      fill: #FFFFFF;\n",
              "    }\n",
              "  </style>\n",
              "\n",
              "    <script>\n",
              "      const buttonEl =\n",
              "        document.querySelector('#df-920d1442-04df-4387-b710-e13b8e4bc154 button.colab-df-convert');\n",
              "      buttonEl.style.display =\n",
              "        google.colab.kernel.accessAllowed ? 'block' : 'none';\n",
              "\n",
              "      async function convertToInteractive(key) {\n",
              "        const element = document.querySelector('#df-920d1442-04df-4387-b710-e13b8e4bc154');\n",
              "        const dataTable =\n",
              "          await google.colab.kernel.invokeFunction('convertToInteractive',\n",
              "                                                    [key], {});\n",
              "        if (!dataTable) return;\n",
              "\n",
              "        const docLinkHtml = 'Like what you see? Visit the ' +\n",
              "          '<a target=\"_blank\" href=https://colab.research.google.com/notebooks/data_table.ipynb>data table notebook</a>'\n",
              "          + ' to learn more about interactive tables.';\n",
              "        element.innerHTML = '';\n",
              "        dataTable['output_type'] = 'display_data';\n",
              "        await google.colab.output.renderOutput(dataTable, element);\n",
              "        const docLink = document.createElement('div');\n",
              "        docLink.innerHTML = docLinkHtml;\n",
              "        element.appendChild(docLink);\n",
              "      }\n",
              "    </script>\n",
              "  </div>\n",
              "\n",
              "\n",
              "<div id=\"df-91fd0968-2a11-4633-9078-159a90ae93b4\">\n",
              "  <button class=\"colab-df-quickchart\" onclick=\"quickchart('df-91fd0968-2a11-4633-9078-159a90ae93b4')\"\n",
              "            title=\"Suggest charts\"\n",
              "            style=\"display:none;\">\n",
              "\n",
              "<svg xmlns=\"http://www.w3.org/2000/svg\" height=\"24px\"viewBox=\"0 0 24 24\"\n",
              "     width=\"24px\">\n",
              "    <g>\n",
              "        <path d=\"M19 3H5c-1.1 0-2 .9-2 2v14c0 1.1.9 2 2 2h14c1.1 0 2-.9 2-2V5c0-1.1-.9-2-2-2zM9 17H7v-7h2v7zm4 0h-2V7h2v10zm4 0h-2v-4h2v4z\"/>\n",
              "    </g>\n",
              "</svg>\n",
              "  </button>\n",
              "\n",
              "<style>\n",
              "  .colab-df-quickchart {\n",
              "      --bg-color: #E8F0FE;\n",
              "      --fill-color: #1967D2;\n",
              "      --hover-bg-color: #E2EBFA;\n",
              "      --hover-fill-color: #174EA6;\n",
              "      --disabled-fill-color: #AAA;\n",
              "      --disabled-bg-color: #DDD;\n",
              "  }\n",
              "\n",
              "  [theme=dark] .colab-df-quickchart {\n",
              "      --bg-color: #3B4455;\n",
              "      --fill-color: #D2E3FC;\n",
              "      --hover-bg-color: #434B5C;\n",
              "      --hover-fill-color: #FFFFFF;\n",
              "      --disabled-bg-color: #3B4455;\n",
              "      --disabled-fill-color: #666;\n",
              "  }\n",
              "\n",
              "  .colab-df-quickchart {\n",
              "    background-color: var(--bg-color);\n",
              "    border: none;\n",
              "    border-radius: 50%;\n",
              "    cursor: pointer;\n",
              "    display: none;\n",
              "    fill: var(--fill-color);\n",
              "    height: 32px;\n",
              "    padding: 0;\n",
              "    width: 32px;\n",
              "  }\n",
              "\n",
              "  .colab-df-quickchart:hover {\n",
              "    background-color: var(--hover-bg-color);\n",
              "    box-shadow: 0 1px 2px rgba(60, 64, 67, 0.3), 0 1px 3px 1px rgba(60, 64, 67, 0.15);\n",
              "    fill: var(--button-hover-fill-color);\n",
              "  }\n",
              "\n",
              "  .colab-df-quickchart-complete:disabled,\n",
              "  .colab-df-quickchart-complete:disabled:hover {\n",
              "    background-color: var(--disabled-bg-color);\n",
              "    fill: var(--disabled-fill-color);\n",
              "    box-shadow: none;\n",
              "  }\n",
              "\n",
              "  .colab-df-spinner {\n",
              "    border: 2px solid var(--fill-color);\n",
              "    border-color: transparent;\n",
              "    border-bottom-color: var(--fill-color);\n",
              "    animation:\n",
              "      spin 1s steps(1) infinite;\n",
              "  }\n",
              "\n",
              "  @keyframes spin {\n",
              "    0% {\n",
              "      border-color: transparent;\n",
              "      border-bottom-color: var(--fill-color);\n",
              "      border-left-color: var(--fill-color);\n",
              "    }\n",
              "    20% {\n",
              "      border-color: transparent;\n",
              "      border-left-color: var(--fill-color);\n",
              "      border-top-color: var(--fill-color);\n",
              "    }\n",
              "    30% {\n",
              "      border-color: transparent;\n",
              "      border-left-color: var(--fill-color);\n",
              "      border-top-color: var(--fill-color);\n",
              "      border-right-color: var(--fill-color);\n",
              "    }\n",
              "    40% {\n",
              "      border-color: transparent;\n",
              "      border-right-color: var(--fill-color);\n",
              "      border-top-color: var(--fill-color);\n",
              "    }\n",
              "    60% {\n",
              "      border-color: transparent;\n",
              "      border-right-color: var(--fill-color);\n",
              "    }\n",
              "    80% {\n",
              "      border-color: transparent;\n",
              "      border-right-color: var(--fill-color);\n",
              "      border-bottom-color: var(--fill-color);\n",
              "    }\n",
              "    90% {\n",
              "      border-color: transparent;\n",
              "      border-bottom-color: var(--fill-color);\n",
              "    }\n",
              "  }\n",
              "</style>\n",
              "\n",
              "  <script>\n",
              "    async function quickchart(key) {\n",
              "      const quickchartButtonEl =\n",
              "        document.querySelector('#' + key + ' button');\n",
              "      quickchartButtonEl.disabled = true;  // To prevent multiple clicks.\n",
              "      quickchartButtonEl.classList.add('colab-df-spinner');\n",
              "      try {\n",
              "        const charts = await google.colab.kernel.invokeFunction(\n",
              "            'suggestCharts', [key], {});\n",
              "      } catch (error) {\n",
              "        console.error('Error during call to suggestCharts:', error);\n",
              "      }\n",
              "      quickchartButtonEl.classList.remove('colab-df-spinner');\n",
              "      quickchartButtonEl.classList.add('colab-df-quickchart-complete');\n",
              "    }\n",
              "    (() => {\n",
              "      let quickchartButtonEl =\n",
              "        document.querySelector('#df-91fd0968-2a11-4633-9078-159a90ae93b4 button');\n",
              "      quickchartButtonEl.style.display =\n",
              "        google.colab.kernel.accessAllowed ? 'block' : 'none';\n",
              "    })();\n",
              "  </script>\n",
              "</div>\n",
              "    </div>\n",
              "  </div>\n"
            ],
            "text/plain": [
              "                          Repository  \\\n",
              "0                microsoft/PowerToys   \n",
              "1                       2dust/v2rayN   \n",
              "2              files-community/Files   \n",
              "3        huiyadanli/RevokeMsgPatcher   \n",
              "4                       netchx/netch   \n",
              "...                              ...   \n",
              "8242           fgilde/AuralizeBlazor   \n",
              "8243  AcK77/TTGames-Explorer-Rebirth   \n",
              "8244         mhdbouk/multitenantdemo   \n",
              "8245        CrazyZhang666/MarneTools   \n",
              "8246  p-zach/godot-pixel-destruction   \n",
              "\n",
              "                                            Description  \n",
              "0        windows system utilities maximize productivity  \n",
              "1     gui client windows support xray core v2fly cor...  \n",
              "2                    building best file manager windows  \n",
              "3              trollface hex editor wechatqqtim pcqqtim  \n",
              "4                                   simple proxy client  \n",
              "...                                                 ...  \n",
              "8242  auralizeblazor wrapper component audiomotionan...  \n",
              "8243                               ttgames modding tool  \n",
              "8244  source code youtube video net app multitenant ...  \n",
              "8245                                                one  \n",
              "8246  pixelperfect sprite collision destruction godo...  \n",
              "\n",
              "[8247 rows x 2 columns]"
            ]
          },
          "execution_count": 17,
          "metadata": {},
          "output_type": "execute_result"
        },
        {
          "name": "stdout",
          "output_type": "stream",
          "text": [
            "Error: Runtime no longer has a reference to this dataframe, please re-run this cell and try again.\n",
            "Error: Runtime no longer has a reference to this dataframe, please re-run this cell and try again.\n"
          ]
        }
      ],
      "source": [
        "data"
      ]
    },
    {
      "cell_type": "code",
      "execution_count": null,
      "metadata": {
        "colab": {
          "base_uri": "https://localhost:8080/"
        },
        "id": "s2a88I85dgrc",
        "outputId": "3ead9f61-b84a-49f5-d616-51600402a140"
      },
      "outputs": [
        {
          "data": {
            "application/vnd.google.colaboratory.intrinsic+json": {
              "summary": "{\n  \"name\": \"clean_data\",\n  \"rows\": 8247,\n  \"fields\": [\n    {\n      \"column\": \"Repository\",\n      \"properties\": {\n        \"dtype\": \"string\",\n        \"num_unique_values\": 8222,\n        \"samples\": [\n          \"mobdk/WinTimer\",\n          \"renatogroffe/MFA_DevOpsExperience-Jan2024\",\n          \"riskydissonance/SharpCookieMonster\"\n        ],\n        \"semantic_type\": \"\",\n        \"description\": \"\"\n      }\n    },\n    {\n      \"column\": \"Description\",\n      \"properties\": {\n        \"dtype\": \"string\",\n        \"num_unique_values\": 8029,\n        \"samples\": [\n          \"windows_PROPN defender_PROPN shellcode_PROPN execution_NOUN bypass_NOUN\",\n          \"sample_NOUN unitys_VERB 2d_NUM renderer_NOUN\",\n          \"2d_PROPN game_NOUN strategy_NOUN\"\n        ],\n        \"semantic_type\": \"\",\n        \"description\": \"\"\n      }\n    }\n  ]\n}",
              "type": "dataframe",
              "variable_name": "clean_data"
            },
            "text/html": [
              "\n",
              "  <div id=\"df-db60a922-1fbf-4587-9fbe-23156e4548be\" class=\"colab-df-container\">\n",
              "    <div>\n",
              "<style scoped>\n",
              "    .dataframe tbody tr th:only-of-type {\n",
              "        vertical-align: middle;\n",
              "    }\n",
              "\n",
              "    .dataframe tbody tr th {\n",
              "        vertical-align: top;\n",
              "    }\n",
              "\n",
              "    .dataframe thead th {\n",
              "        text-align: right;\n",
              "    }\n",
              "</style>\n",
              "<table border=\"1\" class=\"dataframe\">\n",
              "  <thead>\n",
              "    <tr style=\"text-align: right;\">\n",
              "      <th></th>\n",
              "      <th>Repository</th>\n",
              "      <th>Description</th>\n",
              "    </tr>\n",
              "  </thead>\n",
              "  <tbody>\n",
              "    <tr>\n",
              "      <th>0</th>\n",
              "      <td>microsoft/PowerToys</td>\n",
              "      <td>window_NOUN system_NOUN utility_NOUN maximize_...</td>\n",
              "    </tr>\n",
              "    <tr>\n",
              "      <th>1</th>\n",
              "      <td>2dust/v2rayN</td>\n",
              "      <td>gui_PROPN client_PROPN window_VERB support_PRO...</td>\n",
              "    </tr>\n",
              "    <tr>\n",
              "      <th>2</th>\n",
              "      <td>files-community/Files</td>\n",
              "      <td>build_VERB good_ADJ file_NOUN manager_NOUN win...</td>\n",
              "    </tr>\n",
              "    <tr>\n",
              "      <th>3</th>\n",
              "      <td>huiyadanli/RevokeMsgPatcher</td>\n",
              "      <td>trollface_VERB hex_PROPN editor_NOUN wechatqqt...</td>\n",
              "    </tr>\n",
              "    <tr>\n",
              "      <th>4</th>\n",
              "      <td>netchx/netch</td>\n",
              "      <td>simple_ADJ proxy_ADJ client_NOUN</td>\n",
              "    </tr>\n",
              "    <tr>\n",
              "      <th>...</th>\n",
              "      <td>...</td>\n",
              "      <td>...</td>\n",
              "    </tr>\n",
              "    <tr>\n",
              "      <th>8242</th>\n",
              "      <td>fgilde/AuralizeBlazor</td>\n",
              "      <td>auralizeblazor_PROPN wrapper_PROPN component_N...</td>\n",
              "    </tr>\n",
              "    <tr>\n",
              "      <th>8243</th>\n",
              "      <td>AcK77/TTGames-Explorer-Rebirth</td>\n",
              "      <td>ttgame_NOUN modding_NOUN tool_NOUN</td>\n",
              "    </tr>\n",
              "    <tr>\n",
              "      <th>8244</th>\n",
              "      <td>mhdbouk/multitenantdemo</td>\n",
              "      <td>source_NOUN code_PROPN youtube_NOUN video_NOUN...</td>\n",
              "    </tr>\n",
              "    <tr>\n",
              "      <th>8245</th>\n",
              "      <td>CrazyZhang666/MarneTools</td>\n",
              "      <td>one_NUM</td>\n",
              "    </tr>\n",
              "    <tr>\n",
              "      <th>8246</th>\n",
              "      <td>p-zach/godot-pixel-destruction</td>\n",
              "      <td>pixelperfect_ADJ sprite_ADJ collision_NOUN des...</td>\n",
              "    </tr>\n",
              "  </tbody>\n",
              "</table>\n",
              "<p>8247 rows × 2 columns</p>\n",
              "</div>\n",
              "    <div class=\"colab-df-buttons\">\n",
              "\n",
              "  <div class=\"colab-df-container\">\n",
              "    <button class=\"colab-df-convert\" onclick=\"convertToInteractive('df-db60a922-1fbf-4587-9fbe-23156e4548be')\"\n",
              "            title=\"Convert this dataframe to an interactive table.\"\n",
              "            style=\"display:none;\">\n",
              "\n",
              "  <svg xmlns=\"http://www.w3.org/2000/svg\" height=\"24px\" viewBox=\"0 -960 960 960\">\n",
              "    <path d=\"M120-120v-720h720v720H120Zm60-500h600v-160H180v160Zm220 220h160v-160H400v160Zm0 220h160v-160H400v160ZM180-400h160v-160H180v160Zm440 0h160v-160H620v160ZM180-180h160v-160H180v160Zm440 0h160v-160H620v160Z\"/>\n",
              "  </svg>\n",
              "    </button>\n",
              "\n",
              "  <style>\n",
              "    .colab-df-container {\n",
              "      display:flex;\n",
              "      gap: 12px;\n",
              "    }\n",
              "\n",
              "    .colab-df-convert {\n",
              "      background-color: #E8F0FE;\n",
              "      border: none;\n",
              "      border-radius: 50%;\n",
              "      cursor: pointer;\n",
              "      display: none;\n",
              "      fill: #1967D2;\n",
              "      height: 32px;\n",
              "      padding: 0 0 0 0;\n",
              "      width: 32px;\n",
              "    }\n",
              "\n",
              "    .colab-df-convert:hover {\n",
              "      background-color: #E2EBFA;\n",
              "      box-shadow: 0px 1px 2px rgba(60, 64, 67, 0.3), 0px 1px 3px 1px rgba(60, 64, 67, 0.15);\n",
              "      fill: #174EA6;\n",
              "    }\n",
              "\n",
              "    .colab-df-buttons div {\n",
              "      margin-bottom: 4px;\n",
              "    }\n",
              "\n",
              "    [theme=dark] .colab-df-convert {\n",
              "      background-color: #3B4455;\n",
              "      fill: #D2E3FC;\n",
              "    }\n",
              "\n",
              "    [theme=dark] .colab-df-convert:hover {\n",
              "      background-color: #434B5C;\n",
              "      box-shadow: 0px 1px 3px 1px rgba(0, 0, 0, 0.15);\n",
              "      filter: drop-shadow(0px 1px 2px rgba(0, 0, 0, 0.3));\n",
              "      fill: #FFFFFF;\n",
              "    }\n",
              "  </style>\n",
              "\n",
              "    <script>\n",
              "      const buttonEl =\n",
              "        document.querySelector('#df-db60a922-1fbf-4587-9fbe-23156e4548be button.colab-df-convert');\n",
              "      buttonEl.style.display =\n",
              "        google.colab.kernel.accessAllowed ? 'block' : 'none';\n",
              "\n",
              "      async function convertToInteractive(key) {\n",
              "        const element = document.querySelector('#df-db60a922-1fbf-4587-9fbe-23156e4548be');\n",
              "        const dataTable =\n",
              "          await google.colab.kernel.invokeFunction('convertToInteractive',\n",
              "                                                    [key], {});\n",
              "        if (!dataTable) return;\n",
              "\n",
              "        const docLinkHtml = 'Like what you see? Visit the ' +\n",
              "          '<a target=\"_blank\" href=https://colab.research.google.com/notebooks/data_table.ipynb>data table notebook</a>'\n",
              "          + ' to learn more about interactive tables.';\n",
              "        element.innerHTML = '';\n",
              "        dataTable['output_type'] = 'display_data';\n",
              "        await google.colab.output.renderOutput(dataTable, element);\n",
              "        const docLink = document.createElement('div');\n",
              "        docLink.innerHTML = docLinkHtml;\n",
              "        element.appendChild(docLink);\n",
              "      }\n",
              "    </script>\n",
              "  </div>\n",
              "\n",
              "\n",
              "<div id=\"df-08c56698-f43e-4e75-8db5-fa28d1adc554\">\n",
              "  <button class=\"colab-df-quickchart\" onclick=\"quickchart('df-08c56698-f43e-4e75-8db5-fa28d1adc554')\"\n",
              "            title=\"Suggest charts\"\n",
              "            style=\"display:none;\">\n",
              "\n",
              "<svg xmlns=\"http://www.w3.org/2000/svg\" height=\"24px\"viewBox=\"0 0 24 24\"\n",
              "     width=\"24px\">\n",
              "    <g>\n",
              "        <path d=\"M19 3H5c-1.1 0-2 .9-2 2v14c0 1.1.9 2 2 2h14c1.1 0 2-.9 2-2V5c0-1.1-.9-2-2-2zM9 17H7v-7h2v7zm4 0h-2V7h2v10zm4 0h-2v-4h2v4z\"/>\n",
              "    </g>\n",
              "</svg>\n",
              "  </button>\n",
              "\n",
              "<style>\n",
              "  .colab-df-quickchart {\n",
              "      --bg-color: #E8F0FE;\n",
              "      --fill-color: #1967D2;\n",
              "      --hover-bg-color: #E2EBFA;\n",
              "      --hover-fill-color: #174EA6;\n",
              "      --disabled-fill-color: #AAA;\n",
              "      --disabled-bg-color: #DDD;\n",
              "  }\n",
              "\n",
              "  [theme=dark] .colab-df-quickchart {\n",
              "      --bg-color: #3B4455;\n",
              "      --fill-color: #D2E3FC;\n",
              "      --hover-bg-color: #434B5C;\n",
              "      --hover-fill-color: #FFFFFF;\n",
              "      --disabled-bg-color: #3B4455;\n",
              "      --disabled-fill-color: #666;\n",
              "  }\n",
              "\n",
              "  .colab-df-quickchart {\n",
              "    background-color: var(--bg-color);\n",
              "    border: none;\n",
              "    border-radius: 50%;\n",
              "    cursor: pointer;\n",
              "    display: none;\n",
              "    fill: var(--fill-color);\n",
              "    height: 32px;\n",
              "    padding: 0;\n",
              "    width: 32px;\n",
              "  }\n",
              "\n",
              "  .colab-df-quickchart:hover {\n",
              "    background-color: var(--hover-bg-color);\n",
              "    box-shadow: 0 1px 2px rgba(60, 64, 67, 0.3), 0 1px 3px 1px rgba(60, 64, 67, 0.15);\n",
              "    fill: var(--button-hover-fill-color);\n",
              "  }\n",
              "\n",
              "  .colab-df-quickchart-complete:disabled,\n",
              "  .colab-df-quickchart-complete:disabled:hover {\n",
              "    background-color: var(--disabled-bg-color);\n",
              "    fill: var(--disabled-fill-color);\n",
              "    box-shadow: none;\n",
              "  }\n",
              "\n",
              "  .colab-df-spinner {\n",
              "    border: 2px solid var(--fill-color);\n",
              "    border-color: transparent;\n",
              "    border-bottom-color: var(--fill-color);\n",
              "    animation:\n",
              "      spin 1s steps(1) infinite;\n",
              "  }\n",
              "\n",
              "  @keyframes spin {\n",
              "    0% {\n",
              "      border-color: transparent;\n",
              "      border-bottom-color: var(--fill-color);\n",
              "      border-left-color: var(--fill-color);\n",
              "    }\n",
              "    20% {\n",
              "      border-color: transparent;\n",
              "      border-left-color: var(--fill-color);\n",
              "      border-top-color: var(--fill-color);\n",
              "    }\n",
              "    30% {\n",
              "      border-color: transparent;\n",
              "      border-left-color: var(--fill-color);\n",
              "      border-top-color: var(--fill-color);\n",
              "      border-right-color: var(--fill-color);\n",
              "    }\n",
              "    40% {\n",
              "      border-color: transparent;\n",
              "      border-right-color: var(--fill-color);\n",
              "      border-top-color: var(--fill-color);\n",
              "    }\n",
              "    60% {\n",
              "      border-color: transparent;\n",
              "      border-right-color: var(--fill-color);\n",
              "    }\n",
              "    80% {\n",
              "      border-color: transparent;\n",
              "      border-right-color: var(--fill-color);\n",
              "      border-bottom-color: var(--fill-color);\n",
              "    }\n",
              "    90% {\n",
              "      border-color: transparent;\n",
              "      border-bottom-color: var(--fill-color);\n",
              "    }\n",
              "  }\n",
              "</style>\n",
              "\n",
              "  <script>\n",
              "    async function quickchart(key) {\n",
              "      const quickchartButtonEl =\n",
              "        document.querySelector('#' + key + ' button');\n",
              "      quickchartButtonEl.disabled = true;  // To prevent multiple clicks.\n",
              "      quickchartButtonEl.classList.add('colab-df-spinner');\n",
              "      try {\n",
              "        const charts = await google.colab.kernel.invokeFunction(\n",
              "            'suggestCharts', [key], {});\n",
              "      } catch (error) {\n",
              "        console.error('Error during call to suggestCharts:', error);\n",
              "      }\n",
              "      quickchartButtonEl.classList.remove('colab-df-spinner');\n",
              "      quickchartButtonEl.classList.add('colab-df-quickchart-complete');\n",
              "    }\n",
              "    (() => {\n",
              "      let quickchartButtonEl =\n",
              "        document.querySelector('#df-08c56698-f43e-4e75-8db5-fa28d1adc554 button');\n",
              "      quickchartButtonEl.style.display =\n",
              "        google.colab.kernel.accessAllowed ? 'block' : 'none';\n",
              "    })();\n",
              "  </script>\n",
              "</div>\n",
              "    </div>\n",
              "  </div>\n"
            ],
            "text/plain": [
              "                          Repository  \\\n",
              "0                microsoft/PowerToys   \n",
              "1                       2dust/v2rayN   \n",
              "2              files-community/Files   \n",
              "3        huiyadanli/RevokeMsgPatcher   \n",
              "4                       netchx/netch   \n",
              "...                              ...   \n",
              "8242           fgilde/AuralizeBlazor   \n",
              "8243  AcK77/TTGames-Explorer-Rebirth   \n",
              "8244         mhdbouk/multitenantdemo   \n",
              "8245        CrazyZhang666/MarneTools   \n",
              "8246  p-zach/godot-pixel-destruction   \n",
              "\n",
              "                                            Description  \n",
              "0     window_NOUN system_NOUN utility_NOUN maximize_...  \n",
              "1     gui_PROPN client_PROPN window_VERB support_PRO...  \n",
              "2     build_VERB good_ADJ file_NOUN manager_NOUN win...  \n",
              "3     trollface_VERB hex_PROPN editor_NOUN wechatqqt...  \n",
              "4                      simple_ADJ proxy_ADJ client_NOUN  \n",
              "...                                                 ...  \n",
              "8242  auralizeblazor_PROPN wrapper_PROPN component_N...  \n",
              "8243                 ttgame_NOUN modding_NOUN tool_NOUN  \n",
              "8244  source_NOUN code_PROPN youtube_NOUN video_NOUN...  \n",
              "8245                                            one_NUM  \n",
              "8246  pixelperfect_ADJ sprite_ADJ collision_NOUN des...  \n",
              "\n",
              "[8247 rows x 2 columns]"
            ]
          },
          "execution_count": 44,
          "metadata": {},
          "output_type": "execute_result"
        }
      ],
      "source": [
        "clean_data = pd.read_csv(\"/content/clean_data.csv\")\n",
        "clean_data"
      ]
    },
    {
      "cell_type": "code",
      "execution_count": null,
      "metadata": {
        "colab": {
          "base_uri": "https://localhost:8080/"
        },
        "id": "2wBV51DX04XU",
        "outputId": "25befeea-de62-4b1a-bdbf-b3d0958bb3a7"
      },
      "outputs": [
        {
          "data": {
            "text/plain": [
              "Repository       0\n",
              "Description    109\n",
              "dtype: int64"
            ]
          },
          "execution_count": 55,
          "metadata": {},
          "output_type": "execute_result"
        }
      ],
      "source": [
        "clean_data.isna().sum()"
      ]
    },
    {
      "cell_type": "code",
      "execution_count": null,
      "metadata": {
        "colab": {
          "base_uri": "https://localhost:8080/"
        },
        "id": "apn9Wnj91mJ6",
        "outputId": "d7be07c5-9925-41a8-d383-3017d4f3ef5c"
      },
      "outputs": [
        {
          "data": {
            "text/plain": [
              "(8138, 2)"
            ]
          },
          "execution_count": 60,
          "metadata": {},
          "output_type": "execute_result"
        }
      ],
      "source": [
        "clean_data = clean_data.dropna()\n",
        "clean_data.shape"
      ]
    },
    {
      "cell_type": "code",
      "execution_count": null,
      "metadata": {
        "id": "Fq8frWQJ2x5W"
      },
      "outputs": [],
      "source": [
        "clean_data.to_csv(\"preprocessed_txtdata.csv\", index=False, columns=[\"Repository\", \"Description\"])"
      ]
    },
    {
      "cell_type": "markdown",
      "metadata": {
        "id": "HZ-RJJihEZs7"
      },
      "source": [
        "## Векторизация"
      ]
    },
    {
      "cell_type": "code",
      "execution_count": null,
      "metadata": {
        "colab": {
          "base_uri": "https://localhost:8080/"
        },
        "id": "uR7jhjzl-Ips",
        "outputId": "d06eecfd-fc8a-42ec-d282-b59db32e8520"
      },
      "outputs": [
        {
          "name": "stdout",
          "output_type": "stream",
          "text": [
            "Requirement already satisfied: gensim in /usr/local/lib/python3.10/dist-packages (4.3.2)\n",
            "Requirement already satisfied: numpy>=1.18.5 in /usr/local/lib/python3.10/dist-packages (from gensim) (1.25.2)\n",
            "Requirement already satisfied: scipy>=1.7.0 in /usr/local/lib/python3.10/dist-packages (from gensim) (1.11.4)\n",
            "Requirement already satisfied: smart-open>=1.8.1 in /usr/local/lib/python3.10/dist-packages (from gensim) (6.4.0)\n"
          ]
        }
      ],
      "source": [
        "%pip install gensim\n",
        "from gensim.models import Word2Vec\n",
        "from sklearn.metrics.pairwise import cosine_similarity\n",
        "from gensim.models import FastText\n",
        "import gensim\n",
        "from sklearn.neighbors import NearestNeighbors"
      ]
    },
    {
      "cell_type": "code",
      "execution_count": null,
      "metadata": {
        "colab": {
          "base_uri": "https://localhost:8080/",
          "height": 424
        },
        "id": "9fAk1M1j7pX_",
        "outputId": "98356075-6ecf-4427-d085-c13327a77a6c"
      },
      "outputs": [
        {
          "data": {
            "application/vnd.google.colaboratory.intrinsic+json": {
              "summary": "{\n  \"name\": \"data\",\n  \"rows\": 8138,\n  \"fields\": [\n    {\n      \"column\": \"Repository\",\n      \"properties\": {\n        \"dtype\": \"string\",\n        \"num_unique_values\": 8113,\n        \"samples\": [\n          \"jevonsflash/maui-samples\",\n          \"keijiro/ProceduralMotion\",\n          \"sipper69/Control3\"\n        ],\n        \"semantic_type\": \"\",\n        \"description\": \"\"\n      }\n    },\n    {\n      \"column\": \"Description\",\n      \"properties\": {\n        \"dtype\": \"string\",\n        \"num_unique_values\": 8029,\n        \"samples\": [\n          \"windows_PROPN defender_PROPN shellcode_PROPN execution_NOUN bypass_NOUN\",\n          \"sample_NOUN unitys_VERB 2d_NUM renderer_NOUN\",\n          \"2d_PROPN game_NOUN strategy_NOUN\"\n        ],\n        \"semantic_type\": \"\",\n        \"description\": \"\"\n      }\n    }\n  ]\n}",
              "type": "dataframe",
              "variable_name": "data"
            },
            "text/html": [
              "\n",
              "  <div id=\"df-64ef9c2e-e863-479b-a994-c5fc0170c14c\" class=\"colab-df-container\">\n",
              "    <div>\n",
              "<style scoped>\n",
              "    .dataframe tbody tr th:only-of-type {\n",
              "        vertical-align: middle;\n",
              "    }\n",
              "\n",
              "    .dataframe tbody tr th {\n",
              "        vertical-align: top;\n",
              "    }\n",
              "\n",
              "    .dataframe thead th {\n",
              "        text-align: right;\n",
              "    }\n",
              "</style>\n",
              "<table border=\"1\" class=\"dataframe\">\n",
              "  <thead>\n",
              "    <tr style=\"text-align: right;\">\n",
              "      <th></th>\n",
              "      <th>Repository</th>\n",
              "      <th>Description</th>\n",
              "    </tr>\n",
              "  </thead>\n",
              "  <tbody>\n",
              "    <tr>\n",
              "      <th>0</th>\n",
              "      <td>microsoft/PowerToys</td>\n",
              "      <td>window_NOUN system_NOUN utility_NOUN maximize_...</td>\n",
              "    </tr>\n",
              "    <tr>\n",
              "      <th>1</th>\n",
              "      <td>2dust/v2rayN</td>\n",
              "      <td>gui_PROPN client_PROPN window_VERB support_PRO...</td>\n",
              "    </tr>\n",
              "    <tr>\n",
              "      <th>2</th>\n",
              "      <td>files-community/Files</td>\n",
              "      <td>build_VERB good_ADJ file_NOUN manager_NOUN win...</td>\n",
              "    </tr>\n",
              "    <tr>\n",
              "      <th>3</th>\n",
              "      <td>huiyadanli/RevokeMsgPatcher</td>\n",
              "      <td>trollface_VERB hex_PROPN editor_NOUN wechatqqt...</td>\n",
              "    </tr>\n",
              "    <tr>\n",
              "      <th>4</th>\n",
              "      <td>netchx/netch</td>\n",
              "      <td>simple_ADJ proxy_ADJ client_NOUN</td>\n",
              "    </tr>\n",
              "    <tr>\n",
              "      <th>...</th>\n",
              "      <td>...</td>\n",
              "      <td>...</td>\n",
              "    </tr>\n",
              "    <tr>\n",
              "      <th>8133</th>\n",
              "      <td>fgilde/AuralizeBlazor</td>\n",
              "      <td>auralizeblazor_PROPN wrapper_PROPN component_N...</td>\n",
              "    </tr>\n",
              "    <tr>\n",
              "      <th>8134</th>\n",
              "      <td>AcK77/TTGames-Explorer-Rebirth</td>\n",
              "      <td>ttgame_NOUN modding_NOUN tool_NOUN</td>\n",
              "    </tr>\n",
              "    <tr>\n",
              "      <th>8135</th>\n",
              "      <td>mhdbouk/multitenantdemo</td>\n",
              "      <td>source_NOUN code_PROPN youtube_NOUN video_NOUN...</td>\n",
              "    </tr>\n",
              "    <tr>\n",
              "      <th>8136</th>\n",
              "      <td>CrazyZhang666/MarneTools</td>\n",
              "      <td>one_NUM</td>\n",
              "    </tr>\n",
              "    <tr>\n",
              "      <th>8137</th>\n",
              "      <td>p-zach/godot-pixel-destruction</td>\n",
              "      <td>pixelperfect_ADJ sprite_ADJ collision_NOUN des...</td>\n",
              "    </tr>\n",
              "  </tbody>\n",
              "</table>\n",
              "<p>8138 rows × 2 columns</p>\n",
              "</div>\n",
              "    <div class=\"colab-df-buttons\">\n",
              "\n",
              "  <div class=\"colab-df-container\">\n",
              "    <button class=\"colab-df-convert\" onclick=\"convertToInteractive('df-64ef9c2e-e863-479b-a994-c5fc0170c14c')\"\n",
              "            title=\"Convert this dataframe to an interactive table.\"\n",
              "            style=\"display:none;\">\n",
              "\n",
              "  <svg xmlns=\"http://www.w3.org/2000/svg\" height=\"24px\" viewBox=\"0 -960 960 960\">\n",
              "    <path d=\"M120-120v-720h720v720H120Zm60-500h600v-160H180v160Zm220 220h160v-160H400v160Zm0 220h160v-160H400v160ZM180-400h160v-160H180v160Zm440 0h160v-160H620v160ZM180-180h160v-160H180v160Zm440 0h160v-160H620v160Z\"/>\n",
              "  </svg>\n",
              "    </button>\n",
              "\n",
              "  <style>\n",
              "    .colab-df-container {\n",
              "      display:flex;\n",
              "      gap: 12px;\n",
              "    }\n",
              "\n",
              "    .colab-df-convert {\n",
              "      background-color: #E8F0FE;\n",
              "      border: none;\n",
              "      border-radius: 50%;\n",
              "      cursor: pointer;\n",
              "      display: none;\n",
              "      fill: #1967D2;\n",
              "      height: 32px;\n",
              "      padding: 0 0 0 0;\n",
              "      width: 32px;\n",
              "    }\n",
              "\n",
              "    .colab-df-convert:hover {\n",
              "      background-color: #E2EBFA;\n",
              "      box-shadow: 0px 1px 2px rgba(60, 64, 67, 0.3), 0px 1px 3px 1px rgba(60, 64, 67, 0.15);\n",
              "      fill: #174EA6;\n",
              "    }\n",
              "\n",
              "    .colab-df-buttons div {\n",
              "      margin-bottom: 4px;\n",
              "    }\n",
              "\n",
              "    [theme=dark] .colab-df-convert {\n",
              "      background-color: #3B4455;\n",
              "      fill: #D2E3FC;\n",
              "    }\n",
              "\n",
              "    [theme=dark] .colab-df-convert:hover {\n",
              "      background-color: #434B5C;\n",
              "      box-shadow: 0px 1px 3px 1px rgba(0, 0, 0, 0.15);\n",
              "      filter: drop-shadow(0px 1px 2px rgba(0, 0, 0, 0.3));\n",
              "      fill: #FFFFFF;\n",
              "    }\n",
              "  </style>\n",
              "\n",
              "    <script>\n",
              "      const buttonEl =\n",
              "        document.querySelector('#df-64ef9c2e-e863-479b-a994-c5fc0170c14c button.colab-df-convert');\n",
              "      buttonEl.style.display =\n",
              "        google.colab.kernel.accessAllowed ? 'block' : 'none';\n",
              "\n",
              "      async function convertToInteractive(key) {\n",
              "        const element = document.querySelector('#df-64ef9c2e-e863-479b-a994-c5fc0170c14c');\n",
              "        const dataTable =\n",
              "          await google.colab.kernel.invokeFunction('convertToInteractive',\n",
              "                                                    [key], {});\n",
              "        if (!dataTable) return;\n",
              "\n",
              "        const docLinkHtml = 'Like what you see? Visit the ' +\n",
              "          '<a target=\"_blank\" href=https://colab.research.google.com/notebooks/data_table.ipynb>data table notebook</a>'\n",
              "          + ' to learn more about interactive tables.';\n",
              "        element.innerHTML = '';\n",
              "        dataTable['output_type'] = 'display_data';\n",
              "        await google.colab.output.renderOutput(dataTable, element);\n",
              "        const docLink = document.createElement('div');\n",
              "        docLink.innerHTML = docLinkHtml;\n",
              "        element.appendChild(docLink);\n",
              "      }\n",
              "    </script>\n",
              "  </div>\n",
              "\n",
              "\n",
              "<div id=\"df-910ea85f-4d42-4a1f-af36-a833740dccaf\">\n",
              "  <button class=\"colab-df-quickchart\" onclick=\"quickchart('df-910ea85f-4d42-4a1f-af36-a833740dccaf')\"\n",
              "            title=\"Suggest charts\"\n",
              "            style=\"display:none;\">\n",
              "\n",
              "<svg xmlns=\"http://www.w3.org/2000/svg\" height=\"24px\"viewBox=\"0 0 24 24\"\n",
              "     width=\"24px\">\n",
              "    <g>\n",
              "        <path d=\"M19 3H5c-1.1 0-2 .9-2 2v14c0 1.1.9 2 2 2h14c1.1 0 2-.9 2-2V5c0-1.1-.9-2-2-2zM9 17H7v-7h2v7zm4 0h-2V7h2v10zm4 0h-2v-4h2v4z\"/>\n",
              "    </g>\n",
              "</svg>\n",
              "  </button>\n",
              "\n",
              "<style>\n",
              "  .colab-df-quickchart {\n",
              "      --bg-color: #E8F0FE;\n",
              "      --fill-color: #1967D2;\n",
              "      --hover-bg-color: #E2EBFA;\n",
              "      --hover-fill-color: #174EA6;\n",
              "      --disabled-fill-color: #AAA;\n",
              "      --disabled-bg-color: #DDD;\n",
              "  }\n",
              "\n",
              "  [theme=dark] .colab-df-quickchart {\n",
              "      --bg-color: #3B4455;\n",
              "      --fill-color: #D2E3FC;\n",
              "      --hover-bg-color: #434B5C;\n",
              "      --hover-fill-color: #FFFFFF;\n",
              "      --disabled-bg-color: #3B4455;\n",
              "      --disabled-fill-color: #666;\n",
              "  }\n",
              "\n",
              "  .colab-df-quickchart {\n",
              "    background-color: var(--bg-color);\n",
              "    border: none;\n",
              "    border-radius: 50%;\n",
              "    cursor: pointer;\n",
              "    display: none;\n",
              "    fill: var(--fill-color);\n",
              "    height: 32px;\n",
              "    padding: 0;\n",
              "    width: 32px;\n",
              "  }\n",
              "\n",
              "  .colab-df-quickchart:hover {\n",
              "    background-color: var(--hover-bg-color);\n",
              "    box-shadow: 0 1px 2px rgba(60, 64, 67, 0.3), 0 1px 3px 1px rgba(60, 64, 67, 0.15);\n",
              "    fill: var(--button-hover-fill-color);\n",
              "  }\n",
              "\n",
              "  .colab-df-quickchart-complete:disabled,\n",
              "  .colab-df-quickchart-complete:disabled:hover {\n",
              "    background-color: var(--disabled-bg-color);\n",
              "    fill: var(--disabled-fill-color);\n",
              "    box-shadow: none;\n",
              "  }\n",
              "\n",
              "  .colab-df-spinner {\n",
              "    border: 2px solid var(--fill-color);\n",
              "    border-color: transparent;\n",
              "    border-bottom-color: var(--fill-color);\n",
              "    animation:\n",
              "      spin 1s steps(1) infinite;\n",
              "  }\n",
              "\n",
              "  @keyframes spin {\n",
              "    0% {\n",
              "      border-color: transparent;\n",
              "      border-bottom-color: var(--fill-color);\n",
              "      border-left-color: var(--fill-color);\n",
              "    }\n",
              "    20% {\n",
              "      border-color: transparent;\n",
              "      border-left-color: var(--fill-color);\n",
              "      border-top-color: var(--fill-color);\n",
              "    }\n",
              "    30% {\n",
              "      border-color: transparent;\n",
              "      border-left-color: var(--fill-color);\n",
              "      border-top-color: var(--fill-color);\n",
              "      border-right-color: var(--fill-color);\n",
              "    }\n",
              "    40% {\n",
              "      border-color: transparent;\n",
              "      border-right-color: var(--fill-color);\n",
              "      border-top-color: var(--fill-color);\n",
              "    }\n",
              "    60% {\n",
              "      border-color: transparent;\n",
              "      border-right-color: var(--fill-color);\n",
              "    }\n",
              "    80% {\n",
              "      border-color: transparent;\n",
              "      border-right-color: var(--fill-color);\n",
              "      border-bottom-color: var(--fill-color);\n",
              "    }\n",
              "    90% {\n",
              "      border-color: transparent;\n",
              "      border-bottom-color: var(--fill-color);\n",
              "    }\n",
              "  }\n",
              "</style>\n",
              "\n",
              "  <script>\n",
              "    async function quickchart(key) {\n",
              "      const quickchartButtonEl =\n",
              "        document.querySelector('#' + key + ' button');\n",
              "      quickchartButtonEl.disabled = true;  // To prevent multiple clicks.\n",
              "      quickchartButtonEl.classList.add('colab-df-spinner');\n",
              "      try {\n",
              "        const charts = await google.colab.kernel.invokeFunction(\n",
              "            'suggestCharts', [key], {});\n",
              "      } catch (error) {\n",
              "        console.error('Error during call to suggestCharts:', error);\n",
              "      }\n",
              "      quickchartButtonEl.classList.remove('colab-df-spinner');\n",
              "      quickchartButtonEl.classList.add('colab-df-quickchart-complete');\n",
              "    }\n",
              "    (() => {\n",
              "      let quickchartButtonEl =\n",
              "        document.querySelector('#df-910ea85f-4d42-4a1f-af36-a833740dccaf button');\n",
              "      quickchartButtonEl.style.display =\n",
              "        google.colab.kernel.accessAllowed ? 'block' : 'none';\n",
              "    })();\n",
              "  </script>\n",
              "</div>\n",
              "    </div>\n",
              "  </div>\n"
            ],
            "text/plain": [
              "                          Repository  \\\n",
              "0                microsoft/PowerToys   \n",
              "1                       2dust/v2rayN   \n",
              "2              files-community/Files   \n",
              "3        huiyadanli/RevokeMsgPatcher   \n",
              "4                       netchx/netch   \n",
              "...                              ...   \n",
              "8133           fgilde/AuralizeBlazor   \n",
              "8134  AcK77/TTGames-Explorer-Rebirth   \n",
              "8135         mhdbouk/multitenantdemo   \n",
              "8136        CrazyZhang666/MarneTools   \n",
              "8137  p-zach/godot-pixel-destruction   \n",
              "\n",
              "                                            Description  \n",
              "0     window_NOUN system_NOUN utility_NOUN maximize_...  \n",
              "1     gui_PROPN client_PROPN window_VERB support_PRO...  \n",
              "2     build_VERB good_ADJ file_NOUN manager_NOUN win...  \n",
              "3     trollface_VERB hex_PROPN editor_NOUN wechatqqt...  \n",
              "4                      simple_ADJ proxy_ADJ client_NOUN  \n",
              "...                                                 ...  \n",
              "8133  auralizeblazor_PROPN wrapper_PROPN component_N...  \n",
              "8134                 ttgame_NOUN modding_NOUN tool_NOUN  \n",
              "8135  source_NOUN code_PROPN youtube_NOUN video_NOUN...  \n",
              "8136                                            one_NUM  \n",
              "8137  pixelperfect_ADJ sprite_ADJ collision_NOUN des...  \n",
              "\n",
              "[8138 rows x 2 columns]"
            ]
          },
          "execution_count": 12,
          "metadata": {},
          "output_type": "execute_result"
        }
      ],
      "source": [
        "data = pd.read_csv(\"/content/preprocessed_txtdata.csv\")\n",
        "data"
      ]
    },
    {
      "cell_type": "code",
      "execution_count": null,
      "metadata": {
        "colab": {
          "base_uri": "https://localhost:8080/"
        },
        "id": "RK9bOnoo2lsU",
        "outputId": "349ece73-8f28-412d-a27a-e1bd5d8c9e26"
      },
      "outputs": [
        {
          "data": {
            "text/plain": [
              "1846    [unity, csharp, api, connection, stablediffusi...\n",
              "2130        [open, source, csharp, tool, make, net, easy]\n",
              "5771    [sharpgpoabuse, net, application, write, cshar...\n",
              "2599    [automatically, import, texture, material, amb...\n",
              "1479    [patch, version, unity3d, unityhub, windows, m...\n",
              "Name: Description, dtype: object"
            ]
          },
          "execution_count": 13,
          "metadata": {},
          "output_type": "execute_result"
        }
      ],
      "source": [
        "data['Description'] = data['Description'].apply(lambda x: [word.split('_')[0] for word in x.split()]) # сразу токенизируем и убираем POS теги\n",
        "data.Description.sample(5)"
      ]
    },
    {
      "cell_type": "markdown",
      "metadata": {
        "id": "4dlC7h-KrOkK"
      },
      "source": [
        "\n",
        "\n",
        "> model - embeeding model (FastText)\n",
        "\n",
        "> knn - KNN kd-tree model of documents' vectors\n",
        "\n"
      ]
    },
    {
      "cell_type": "code",
      "execution_count": null,
      "metadata": {
        "id": "cgqk7WBRejbt"
      },
      "outputs": [],
      "source": [
        "# Preprocess the text data\n",
        "def preprocess_query(query_text):\n",
        "    query_text = preprocesse(query_text)\n",
        "    return query_text.split()\n",
        "\n",
        "# get the vector representation of a query\n",
        "def get_query_vector(query, model):\n",
        "    words = preprocess_query(query)\n",
        "    query_vector = model.wv.get_sentence_vector(words)\n",
        "    return query_vector\n",
        "\n",
        "# get the vector representation of a repository\n",
        "def get_repository_vector(description, model):\n",
        "    words = description\n",
        "    repo_vector = model.wv.get_sentence_vector(words)\n",
        "    return repo_vector\n",
        "\n",
        "# function to retrieve relevant repositories for a given query\n",
        "def retrieve_relevant_repositories(query, knn, model, data):\n",
        "    query_vector = get_query_vector(query, model)\n",
        "    distances, indices = knn.kneighbors([query_vector])\n",
        "    return data.Repository.iloc[indices[0]]"
      ]
    },
    {
      "cell_type": "markdown",
      "metadata": {
        "id": "tgKBEw6KkLsE"
      },
      "source": [
        "#### FastText + kNN(kd-tree)"
      ]
    },
    {
      "cell_type": "markdown",
      "metadata": {
        "id": "QCYIzEXujgEX"
      },
      "source": [
        "##### Простой пример"
      ]
    },
    {
      "cell_type": "code",
      "execution_count": null,
      "metadata": {
        "colab": {
          "base_uri": "https://localhost:8080/"
        },
        "id": "pr6PNmEjoS9k",
        "outputId": "1cf3a6ad-2fea-4300-b9cb-15e116a5a25f"
      },
      "outputs": [
        {
          "name": "stdout",
          "output_type": "stream",
          "text": [
            "Fitting 3 folds for each of 288 candidates, totalling 864 fits\n",
            "Best hyperparameters: {'epochs': 5, 'min_count': 1, 'vector_size': 5, 'window': 3, 'workers': 2}\n",
            "Best score: nan\n"
          ]
        }
      ],
      "source": [
        "import numpy as np\n",
        "import pandas as pd\n",
        "import gensim\n",
        "from sklearn.model_selection import GroupKFold, GridSearchCV\n",
        "from sklearn.base import BaseEstimator, ClassifierMixin\n",
        "\n",
        "from sklearn.metrics import f1_score, make_scorer\n",
        "from sklearn.model_selection import GridSearchCV\n",
        "\n",
        "# Define the custom scorer function\n",
        "f1_scorer = make_scorer(f1_score, average='weighted')\n",
        "\n",
        "# Assume you have a pandas dataframe 'data' with columns 'Description' and 'Repository'\n",
        "data = pd.DataFrame({\n",
        "    'Description': [\n",
        "        \"The quick brown fox jumps over the lazy dog\",\n",
        "        \"The lazy dog sleeps on the couch\",\n",
        "        \"The quick fox eats the slow rabbit\",\n",
        "        \"The slow rabbit hops away\",\n",
        "        \"The brown fox has a bushy tail\"\n",
        "    ],\n",
        "    'Repository': [1, 2, 3, 4, 5]\n",
        "})\n",
        "\n",
        "# Preprocess the data by tokenizing the descriptions\n",
        "data['Description'] = data['Description'].apply(lambda x: x.split())\n",
        "\n",
        "# Define the hyperparameter space for the FastText model\n",
        "param_grid = {\n",
        "    'epochs': [5, 10],\n",
        "    'vector_size': [5, 10, 15],\n",
        "    'window': [3, 5, 7, 10],\n",
        "    'min_count': [1, 5, 10, 20],\n",
        "    'workers': [2, 4, 8]\n",
        "}\n",
        "\n",
        "\n",
        "class FastTextEstimator(BaseEstimator, ClassifierMixin):\n",
        "    def __init__(self, epochs=5, vector_size=20, window=3, min_count=1, workers=2):\n",
        "        self.epochs = epochs\n",
        "        self.vector_size = vector_size\n",
        "        self.window = window\n",
        "        self.min_count = min_count\n",
        "        self.workers = workers\n",
        "\n",
        "    def fit(self, X, y=None):\n",
        "        self.model = gensim.models.FastText(X, sg=0, hs=1, epochs=self.epochs, vector_size=self.vector_size, window=self.window, min_count=self.min_count, workers=self.workers)\n",
        "        return self\n",
        "\n",
        "    def get_params(self, deep=False):\n",
        "        return {\n",
        "            'epochs': self.epochs,\n",
        "            'vector_size': self.vector_size,\n",
        "            'window': self.window,\n",
        "            'min_count': self.min_count,\n",
        "            'workers': self.workers\n",
        "        }\n",
        "\n",
        "    def set_params(self, **params):\n",
        "        for key, value in params.items():\n",
        "            setattr(self, key, value)\n",
        "        return self\n",
        "\n",
        "\n",
        "# Perform grid search to find the best hyperparameters using GroupKFold\n",
        "gkf = GroupKFold(n_splits=3)\n",
        "grid_search = GridSearchCV(\n",
        "    estimator=FastTextEstimator(),\n",
        "    param_grid=param_grid,\n",
        "    cv=gkf.split(data.Description.values, groups=data.Repository.values),\n",
        "    scoring=f1_scorer,\n",
        "    n_jobs=-1,\n",
        "    verbose=2)\n",
        "\n",
        "grid_search.fit(data.Description.values)\n",
        "\n",
        "# Print the best hyperparameters and the corresponding F1 score\n",
        "print(\"Best hyperparameters:\", grid_search.best_params_)\n",
        "print(\"Best score:\", grid_search.best_score_)\n",
        "\n",
        "# Train the FastText model with the best hyperparameters\n",
        "model = FastTextEstimator(**grid_search.best_params_)\n",
        "model.fit(data.Description.values)"
      ]
    },
    {
      "cell_type": "code",
      "execution_count": null,
      "metadata": {
        "colab": {
          "base_uri": "https://localhost:8080/"
        },
        "id": "smYbK8GZt7lh",
        "outputId": "7bcf9f4e-0781-4745-ac7d-f70fec07e601"
      },
      "outputs": [
        {
          "name": "stdout",
          "output_type": "stream",
          "text": [
            "[('sleeps', 0.7607722878456116), ('has', 0.7237035632133484), ('rabbit', 0.6555864810943604)]\n"
          ]
        }
      ],
      "source": [
        "context = ['the', 'quick', 'brown', '__unknown__']\n",
        "\n",
        "# Predict the most similar word to the unknown word in the context\n",
        "predicted_word = grid_search.best_estimator_.model.wv.most_similar(positive=context[:-1], negative=[context[-1]])[:3]\n",
        "\n",
        "print(predicted_word)"
      ]
    },
    {
      "cell_type": "markdown",
      "metadata": {
        "id": "2mvIubIJjrsY"
      },
      "source": [
        "##### Реальный пример"
      ]
    },
    {
      "cell_type": "code",
      "execution_count": null,
      "metadata": {
        "id": "mpi9fBnbNsQa"
      },
      "outputs": [],
      "source": [
        "import numpy as np\n",
        "import pandas as pd\n",
        "import gensim\n",
        "from sklearn.model_selection import GroupKFold\n",
        "from sklearn.base import BaseEstimator, ClassifierMixin\n",
        "from gensim.similarities import Similarity"
      ]
    },
    {
      "cell_type": "code",
      "execution_count": null,
      "metadata": {
        "colab": {
          "base_uri": "https://localhost:8080/"
        },
        "id": "U6oVZOOJ6zKP",
        "outputId": "00899304-d20f-4639-9ce2-e7099226d0ab"
      },
      "outputs": [
        {
          "name": "stderr",
          "output_type": "stream",
          "text": [
            "WARNING:gensim.models.word2vec:Effective 'alpha' higher than previous training cycles\n"
          ]
        }
      ],
      "source": [
        "# Define the FastText model\n",
        "model = FastText(data.Description.values,\n",
        "                 sg=0,\n",
        "                 hs=1,\n",
        "                 negative=0,\n",
        "                 alpha=0.025,\n",
        "                 vector_size=60,\n",
        "                 window=3,\n",
        "                 min_count=3,\n",
        "                 workers=5,\n",
        "                 epochs=7)\n",
        "\n",
        "# Train the model\n",
        "model.train(data.Description.values, total_examples=model.corpus_count, epochs=50)"
      ]
    },
    {
      "cell_type": "code",
      "execution_count": null,
      "metadata": {
        "id": "LvuqXIqau1eL"
      },
      "outputs": [],
      "source": [
        "# Save the model to a file\n",
        "model.save(\"fasttext_model\")"
      ]
    },
    {
      "cell_type": "code",
      "execution_count": null,
      "metadata": {
        "colab": {
          "base_uri": "https://localhost:8080/"
        },
        "id": "x_dhgR4kWWZJ",
        "outputId": "90753602-ea79-4755-8b1e-11d0542b9d3f"
      },
      "outputs": [
        {
          "data": {
            "text/plain": [
              "[('web3', 0.804424524307251),\n",
              " ('web', 0.7525070309638977),\n",
              " ('website', 0.6947178840637207),\n",
              " ('websocket', 0.6846100687980652),\n",
              " ('webui', 0.6841009855270386)]"
            ]
          },
          "execution_count": 20,
          "metadata": {},
          "output_type": "execute_result"
        }
      ],
      "source": [
        "sim_score = model.wv.most_similar('webs')[:5]\n",
        "sim_score if sim_score[0][1] > 0.55 else \"ничего особенного\""
      ]
    },
    {
      "cell_type": "markdown",
      "metadata": {
        "id": "mGMDJNGW_W9x"
      },
      "source": [
        "\n",
        "\n",
        "> пример автодополнения по контексту\n",
        "\n"
      ]
    },
    {
      "cell_type": "code",
      "execution_count": null,
      "metadata": {
        "colab": {
          "base_uri": "https://localhost:8080/"
        },
        "id": "61NkGyhx5pZ4",
        "outputId": "3552f586-a97b-4493-b95e-c5d9892989e6"
      },
      "outputs": [
        {
          "name": "stdout",
          "output_type": "stream",
          "text": [
            "[('jwt', 0.7600553035736084), ('tokens', 0.4985504746437073), ('angular', 0.43316516280174255), ('webhook', 0.425396203994751), ('materiais', 0.42355403304100037)]\n",
            "[('architecture', 0.6033294200897217), ('eventdriven', 0.5702003240585327), ('practical', 0.5392873287200928), ('architectural', 0.5324025750160217), ('principle', 0.5294102430343628)]\n"
          ]
        }
      ],
      "source": [
        "context_test1 = ['jwt' 'au', '__unknown__']\n",
        "context_test2 = ['clean', 'archit', '__unknown__']\n",
        "\n",
        "# Predict the most similar word to the unknown word in the context\n",
        "predicted_word1 = model.wv.most_similar(positive=context_test1[:-1], negative=[context_test1[-1]])[:5]\n",
        "print(predicted_word1)\n",
        "\n",
        "predicted_word2 = model.wv.most_similar(positive=context_test2[:-1], negative=[context_test2[-1]])[:5]\n",
        "print(predicted_word2)"
      ]
    },
    {
      "cell_type": "markdown",
      "metadata": {
        "id": "6ilIcZld_e4y"
      },
      "source": [
        "\n",
        "\n",
        "> применение в машином поиске\n",
        "\n"
      ]
    },
    {
      "cell_type": "markdown",
      "metadata": {
        "id": "bAhVZeNer036"
      },
      "source": [
        "**Векторизация каждого репозитория**"
      ]
    },
    {
      "cell_type": "code",
      "execution_count": null,
      "metadata": {
        "id": "ELey8jOaRzwZ"
      },
      "outputs": [],
      "source": [
        "# Calculate the vector representation of each repository description\n",
        "repository_vectors = data.Description.apply(lambda description: get_repository_vector(description, model))"
      ]
    },
    {
      "cell_type": "code",
      "execution_count": null,
      "metadata": {
        "colab": {
          "base_uri": "https://localhost:8080/"
        },
        "id": "Fr16F51FT7zW",
        "outputId": "de811afb-c91a-4697-91ae-065f81b6ec44"
      },
      "outputs": [
        {
          "data": {
            "text/plain": [
              "array([array([ 0.022,  0.022, -0.068, -0.001, -0.005,  0.053, -0.024,  0.042,\n",
              "               0.007, -0.012, -0.037,  0.031,  0.075,  0.013,  0.036,  0.022,\n",
              "              -0.036, -0.048,  0.021, -0.011,  0.008, -0.048,  0.008, -0.035,\n",
              "              -0.046,  0.019,  0.028, -0.025,  0.001, -0.035, -0.052,  0.02 ,\n",
              "              -0.026, -0.077,  0.04 ,  0.025,  0.024,  0.012, -0.017,  0.037,\n",
              "               0.062, -0.062,  0.09 , -0.012, -0.008, -0.04 ,  0.059,  0.04 ,\n",
              "              -0.053,  0.023, -0.042,  0.092,  0.014,  0.003, -0.03 , -0.022,\n",
              "               0.007,  0.07 ,  0.041,  0.03 ], dtype=float32)                ,\n",
              "       array([-0.011, -0.04 ,  0.   ,  0.054, -0.062,  0.003, -0.03 , -0.042,\n",
              "               0.056,  0.031, -0.034,  0.059,  0.07 , -0.006,  0.024, -0.142,\n",
              "              -0.07 ,  0.056,  0.021,  0.099,  0.008, -0.115,  0.029,  0.017,\n",
              "              -0.039,  0.016,  0.017,  0.032,  0.044, -0.138,  0.074, -0.012,\n",
              "              -0.003, -0.019, -0.016, -0.052,  0.02 ,  0.051, -0.12 , -0.124,\n",
              "              -0.001,  0.002,  0.008, -0.043,  0.123,  0.007, -0.043,  0.041,\n",
              "              -0.049, -0.021, -0.061,  0.014,  0.062, -0.045,  0.07 ,  0.068,\n",
              "               0.131,  0.055, -0.033, -0.026], dtype=float32)                ,\n",
              "       array([ 0.017, -0.092,  0.025,  0.027,  0.02 ,  0.041, -0.001, -0.023,\n",
              "              -0.024,  0.051, -0.114,  0.078,  0.105,  0.15 ,  0.01 , -0.005,\n",
              "              -0.017,  0.098,  0.114,  0.071, -0.025,  0.013,  0.019, -0.037,\n",
              "               0.08 ,  0.077, -0.   ,  0.069,  0.02 , -0.016,  0.034, -0.047,\n",
              "               0.086, -0.137, -0.008, -0.086, -0.047, -0.019, -0.001,  0.017,\n",
              "               0.077, -0.055,  0.223, -0.065,  0.082, -0.062, -0.037,  0.118,\n",
              "               0.074, -0.057,  0.11 ,  0.138,  0.095, -0.091, -0.057, -0.081,\n",
              "              -0.025,  0.105,  0.053, -0.061], dtype=float32)                ,\n",
              "       array([ 0.108, -0.023, -0.041, -0.059, -0.261, -0.021,  0.034, -0.03 ,\n",
              "              -0.18 ,  0.13 , -0.096,  0.033, -0.004,  0.178, -0.121,  0.066,\n",
              "               0.128, -0.236, -0.045,  0.106,  0.188,  0.125, -0.059, -0.025,\n",
              "               0.059,  0.246,  0.198, -0.063, -0.089,  0.002, -0.093,  0.103,\n",
              "              -0.143,  0.11 ,  0.225, -0.105, -0.038,  0.029,  0.087,  0.071,\n",
              "               0.005,  0.057, -0.239,  0.201,  0.081,  0.192,  0.019, -0.257,\n",
              "              -0.066, -0.192,  0.072, -0.097, -0.029,  0.029,  0.11 ,  0.302,\n",
              "              -0.108,  0.168,  0.05 , -0.068], dtype=float32)                ,\n",
              "       array([-0.053, -0.17 ,  0.046, -0.044, -0.112, -0.011, -0.066, -0.009,\n",
              "              -0.037, -0.001, -0.057,  0.155,  0.076, -0.154, -0.047,  0.016,\n",
              "              -0.128,  0.06 , -0.119, -0.088, -0.211, -0.059, -0.073, -0.002,\n",
              "               0.071, -0.075, -0.198, -0.234, -0.051, -0.052, -0.058, -0.063,\n",
              "               0.095, -0.035,  0.078, -0.155, -0.167, -0.083,  0.05 ,  0.035,\n",
              "              -0.011, -0.117, -0.097,  0.053, -0.141, -0.15 , -0.009,  0.033,\n",
              "               0.012,  0.017,  0.114, -0.005,  0.129,  0.002,  0.018,  0.126,\n",
              "              -0.049, -0.088, -0.017,  0.076], dtype=float32)                ],\n",
              "      dtype=object)"
            ]
          },
          "execution_count": 27,
          "metadata": {},
          "output_type": "execute_result"
        }
      ],
      "source": [
        "repository_vectors.sample(5).values"
      ]
    },
    {
      "cell_type": "markdown",
      "metadata": {
        "id": "8Vl14zCLsMEn"
      },
      "source": [
        "**обучение векторной модели машинного поиска**"
      ]
    },
    {
      "cell_type": "code",
      "execution_count": null,
      "metadata": {
        "colab": {
          "base_uri": "https://localhost:8080/",
          "height": 75
        },
        "id": "an2kakbFbVNr",
        "outputId": "d0c884f3-f9a2-4e52-9a11-4a4d29172790"
      },
      "outputs": [
        {
          "data": {
            "text/html": [
              "<style>#sk-container-id-1 {color: black;background-color: white;}#sk-container-id-1 pre{padding: 0;}#sk-container-id-1 div.sk-toggleable {background-color: white;}#sk-container-id-1 label.sk-toggleable__label {cursor: pointer;display: block;width: 100%;margin-bottom: 0;padding: 0.3em;box-sizing: border-box;text-align: center;}#sk-container-id-1 label.sk-toggleable__label-arrow:before {content: \"▸\";float: left;margin-right: 0.25em;color: #696969;}#sk-container-id-1 label.sk-toggleable__label-arrow:hover:before {color: black;}#sk-container-id-1 div.sk-estimator:hover label.sk-toggleable__label-arrow:before {color: black;}#sk-container-id-1 div.sk-toggleable__content {max-height: 0;max-width: 0;overflow: hidden;text-align: left;background-color: #f0f8ff;}#sk-container-id-1 div.sk-toggleable__content pre {margin: 0.2em;color: black;border-radius: 0.25em;background-color: #f0f8ff;}#sk-container-id-1 input.sk-toggleable__control:checked~div.sk-toggleable__content {max-height: 200px;max-width: 100%;overflow: auto;}#sk-container-id-1 input.sk-toggleable__control:checked~label.sk-toggleable__label-arrow:before {content: \"▾\";}#sk-container-id-1 div.sk-estimator input.sk-toggleable__control:checked~label.sk-toggleable__label {background-color: #d4ebff;}#sk-container-id-1 div.sk-label input.sk-toggleable__control:checked~label.sk-toggleable__label {background-color: #d4ebff;}#sk-container-id-1 input.sk-hidden--visually {border: 0;clip: rect(1px 1px 1px 1px);clip: rect(1px, 1px, 1px, 1px);height: 1px;margin: -1px;overflow: hidden;padding: 0;position: absolute;width: 1px;}#sk-container-id-1 div.sk-estimator {font-family: monospace;background-color: #f0f8ff;border: 1px dotted black;border-radius: 0.25em;box-sizing: border-box;margin-bottom: 0.5em;}#sk-container-id-1 div.sk-estimator:hover {background-color: #d4ebff;}#sk-container-id-1 div.sk-parallel-item::after {content: \"\";width: 100%;border-bottom: 1px solid gray;flex-grow: 1;}#sk-container-id-1 div.sk-label:hover label.sk-toggleable__label {background-color: #d4ebff;}#sk-container-id-1 div.sk-serial::before {content: \"\";position: absolute;border-left: 1px solid gray;box-sizing: border-box;top: 0;bottom: 0;left: 50%;z-index: 0;}#sk-container-id-1 div.sk-serial {display: flex;flex-direction: column;align-items: center;background-color: white;padding-right: 0.2em;padding-left: 0.2em;position: relative;}#sk-container-id-1 div.sk-item {position: relative;z-index: 1;}#sk-container-id-1 div.sk-parallel {display: flex;align-items: stretch;justify-content: center;background-color: white;position: relative;}#sk-container-id-1 div.sk-item::before, #sk-container-id-1 div.sk-parallel-item::before {content: \"\";position: absolute;border-left: 1px solid gray;box-sizing: border-box;top: 0;bottom: 0;left: 50%;z-index: -1;}#sk-container-id-1 div.sk-parallel-item {display: flex;flex-direction: column;z-index: 1;position: relative;background-color: white;}#sk-container-id-1 div.sk-parallel-item:first-child::after {align-self: flex-end;width: 50%;}#sk-container-id-1 div.sk-parallel-item:last-child::after {align-self: flex-start;width: 50%;}#sk-container-id-1 div.sk-parallel-item:only-child::after {width: 0;}#sk-container-id-1 div.sk-dashed-wrapped {border: 1px dashed gray;margin: 0 0.4em 0.5em 0.4em;box-sizing: border-box;padding-bottom: 0.4em;background-color: white;}#sk-container-id-1 div.sk-label label {font-family: monospace;font-weight: bold;display: inline-block;line-height: 1.2em;}#sk-container-id-1 div.sk-label-container {text-align: center;}#sk-container-id-1 div.sk-container {/* jupyter's `normalize.less` sets `[hidden] { display: none; }` but bootstrap.min.css set `[hidden] { display: none !important; }` so we also need the `!important` here to be able to override the default hidden behavior on the sphinx rendered scikit-learn.org. See: https://github.com/scikit-learn/scikit-learn/issues/21755 */display: inline-block !important;position: relative;}#sk-container-id-1 div.sk-text-repr-fallback {display: none;}</style><div id=\"sk-container-id-1\" class=\"sk-top-container\"><div class=\"sk-text-repr-fallback\"><pre>NearestNeighbors(algorithm=&#x27;kd_tree&#x27;)</pre><b>In a Jupyter environment, please rerun this cell to show the HTML representation or trust the notebook. <br />On GitHub, the HTML representation is unable to render, please try loading this page with nbviewer.org.</b></div><div class=\"sk-container\" hidden><div class=\"sk-item\"><div class=\"sk-estimator sk-toggleable\"><input class=\"sk-toggleable__control sk-hidden--visually\" id=\"sk-estimator-id-1\" type=\"checkbox\" checked><label for=\"sk-estimator-id-1\" class=\"sk-toggleable__label sk-toggleable__label-arrow\">NearestNeighbors</label><div class=\"sk-toggleable__content\"><pre>NearestNeighbors(algorithm=&#x27;kd_tree&#x27;)</pre></div></div></div></div></div>"
            ],
            "text/plain": [
              "NearestNeighbors(algorithm='kd_tree')"
            ]
          },
          "execution_count": 28,
          "metadata": {},
          "output_type": "execute_result"
        }
      ],
      "source": [
        "# Convert the Series to a list of vectors and then to a NumPy array\n",
        "repository_vectors_array = np.array(repository_vectors.tolist())\n",
        "\n",
        "# Train the KNN model\n",
        "knn = NearestNeighbors(n_neighbors=5, algorithm='kd_tree')\n",
        "knn.fit(repository_vectors_array)"
      ]
    },
    {
      "cell_type": "code",
      "execution_count": null,
      "metadata": {
        "colab": {
          "base_uri": "https://localhost:8080/"
        },
        "id": "d047LUrD1S09",
        "outputId": "6322aa67-cba0-4838-bfd6-ea57f35ab835"
      },
      "outputs": [
        {
          "data": {
            "text/plain": [
              "['knn_model.joblib']"
            ]
          },
          "execution_count": 34,
          "metadata": {},
          "output_type": "execute_result"
        }
      ],
      "source": [
        "import joblib\n",
        "\n",
        "# Save the KNN model\n",
        "joblib.dump(knn, 'knn_model.joblib')"
      ]
    },
    {
      "cell_type": "markdown",
      "metadata": {
        "id": "u-mk7P0EyO8a"
      },
      "source": [
        "## Загрузка моделей и использование"
      ]
    },
    {
      "cell_type": "code",
      "execution_count": null,
      "metadata": {
        "colab": {
          "base_uri": "https://localhost:8080/"
        },
        "id": "hGisNPWL2cs0",
        "outputId": "ce721597-fca7-416e-ab32-04b34a58a827"
      },
      "outputs": [
        {
          "data": {
            "text/plain": [
              "719"
            ]
          },
          "execution_count": 38,
          "metadata": {},
          "output_type": "execute_result"
        }
      ],
      "source": [
        "import gc\n",
        "gc.collect()"
      ]
    },
    {
      "cell_type": "code",
      "execution_count": null,
      "metadata": {
        "id": "Ql8lmy-HtL8q"
      },
      "outputs": [],
      "source": [
        "fasttext_model = FastText.load(\"fasttext_model\")"
      ]
    },
    {
      "cell_type": "code",
      "execution_count": null,
      "metadata": {
        "id": "tmvlBLjc2jzz"
      },
      "outputs": [],
      "source": [
        "knn = joblib.load('knn_model.joblib')"
      ]
    },
    {
      "cell_type": "code",
      "execution_count": null,
      "metadata": {
        "colab": {
          "base_uri": "https://localhost:8080/"
        },
        "id": "bED_98AqRhag",
        "outputId": "58f67a4c-cb2f-4292-90e5-91b00d0a07c8"
      },
      "outputs": [
        {
          "name": "stdout",
          "output_type": "stream",
          "text": [
            "5394                              TeshaneCrawford/jwtAuth\n",
            "6948        cornflourblue/dotnet-5-jwt-refresh-tokens-api\n",
            "6818        cornflourblue/dotnet-6-jwt-authentication-api\n",
            "1597    NikiforovAll/keycloak-authorization-services-d...\n",
            "6391    cornflourblue/aspnet-core-3-jwt-refresh-tokens...\n",
            "Name: Repository, dtype: object\n"
          ]
        }
      ],
      "source": [
        "# Retrieve relevant repositories for the query \"realtime chat app\"\n",
        "query = \"jwt auth\"\n",
        "relevant_repositories = retrieve_relevant_repositories(query, knn, fasttext_model, data)\n",
        "\n",
        "print(relevant_repositories)"
      ]
    }
  ],
  "metadata": {
    "colab": {
      "collapsed_sections": [
        "oY3qLyhatuOU",
        "gVrv9j-9wGjf",
        "72WnrGYpSFmf",
        "yYk-DUxldppX",
        "whb7pGulsYfh",
        "KcNswJ3Zs3Xk",
        "91YpPy5A9VkM",
        "QCYIzEXujgEX",
        "mKvPAJrEeYjT"
      ],
      "provenance": []
    },
    "kernelspec": {
      "display_name": "Python 3",
      "name": "python3"
    },
    "language_info": {
      "name": "python"
    }
  },
  "nbformat": 4,
  "nbformat_minor": 0
}
